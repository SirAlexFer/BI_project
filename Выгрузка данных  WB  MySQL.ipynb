{
 "cells": [
  {
   "cell_type": "markdown",
   "id": "27f7e4c3",
   "metadata": {},
   "source": [
    "Класс API WB, указан ниже\n",
    "Его необходимо выгрузить в отдельный файл на сервер\n",
    "При необходимости в него будут добавляться новые функции"
   ]
  },
  {
   "cell_type": "code",
   "execution_count": 1,
   "id": "ceab9a9a",
   "metadata": {},
   "outputs": [],
   "source": [
    "import datetime\n",
    "import requests\n",
    "import time\n",
    "import json\n",
    "import pandas as pd\n",
    "from datetime import datetime\n",
    "from datetime import timedelta\n",
    "\n",
    "class Meta:\n",
    "    def __init__(self):\n",
    "        self._token = ''\n",
    "        \n",
    "        self._requests_api_stock='https://suppliers-stats.wildberries.ru/api/v1/supplier/stocks?dateFrom=2020-04-26T10%3A00%3A00.000Z&key='\n",
    "        self._requests_api_orders= 'https://suppliers-stats.wildberries.ru/api/v1/supplier/orders?dateFrom='\n",
    "        self._requests_api_meta2 = 'T21%3A00%3A01.000Z&flag=1&key='\n",
    "        self._requests_api_meta3 = 'T21%3A00%3A01.000Z&flag=0&key='\n",
    "        \n",
    "        self._requests_api_sales= 'https://suppliers-stats.wildberries.ru/api/v1/supplier/sales?dateFrom='\n",
    "        \n",
    "        \n",
    "        \n",
    "class Stock(Meta):\n",
    "    def get_stock(self):\n",
    "        response_stock = requests.get(self._requests_api_stock + self._token, stream=True)\n",
    "        df = pd.DataFrame(response_stock.json())\n",
    "        now = datetime.now()\n",
    "        return df\n",
    "        \n",
    "class Orders(Meta):\n",
    "    def get_orders(self,date):\n",
    "        \"\"\"подставить date в формате 2021-01-01\"\"\"\n",
    "        response_orders = requests.get(self._requests_api_orders+date+self._requests_api_meta2+ self._token, stream=True)\n",
    "        df = pd.DataFrame(response_orders.json())\n",
    "        return df   \n",
    "        \n",
    "    def get_orders_last_day(self):\n",
    "        \"\"\"возвращает заказы предыдущего дня\"\"\"\n",
    "        date = (datetime.now()-timedelta(1)).strftime(\"%Y-%m-%d\")\n",
    "        return self.get_orders(date)\n",
    "        \n",
    "    def get_all_orders(self,date):\n",
    "        \"\"\"подставить date в формате 2021-01-01\"\"\"\n",
    "        response_orders = requests.get(self._requests_api_orders+date+self._requests_api_meta3+ self._token, stream=True)\n",
    "        df = pd.DataFrame(response_orders.json())\n",
    "        return df   \n",
    "        \n",
    "class Sales(Meta):\n",
    "    def get_sales(self,date):\n",
    "        \"\"\"подставить date в формате 2021-01-01\"\"\"\n",
    "        response_sales = requests.get(self._requests_api_sales+date+self._requests_api_meta2+ self._token, stream=True)\n",
    "        print(response_sales.text)\n",
    "        df = pd.DataFrame(response_sales.json())\n",
    "        return df       \n",
    "        \n",
    "    def get_sales_last_day(self):\n",
    "        \"\"\"возвращает заказы предыдущего дня\"\"\"\n",
    "        date = (datetime.now()-timedelta(1)).strftime(\"%Y-%m-%d\")\n",
    "        return self.get_sales(date)\n",
    "        \n",
    "    def get_all_sales(self,date):\n",
    "        \"\"\"подставить date в формате 2021-01-01\"\"\"\n",
    "        response_sales = requests.get(self._requests_api_sales+date+self._requests_api_meta3+ self._token, stream=True)\n",
    "        df = pd.DataFrame(response_sales.json())\n",
    "        return df \n",
    "    \n",
    "\n",
    "class Report_total(Meta):\n",
    "    def get_report(self,date_start,date_finish):\n",
    "        \"\"\"подставить date в формате 2021-01-01\"\"\"\n",
    "        import urllib\n",
    "        url_report = 'https://suppliers-stats.wildberries.ru/api/v1/supplier/reportDetailByPeriod'\n",
    "        \n",
    "        df = pd.DataFrame()\n",
    "        for i in range(1):\n",
    "            time.sleep(10)\n",
    "            params = {\n",
    "                'dateFrom':date_start,\n",
    "                'key': self._token,\n",
    "                'limit':1000,\n",
    "                'rrdid':i,\n",
    "                'dateto':date_finish\n",
    "\n",
    "            }\n",
    "            print(i,end = ', ')\n",
    "            url = url_report+\"?\"+urllib.parse.urlencode(params)\n",
    "            \n",
    "            response_sales = requests.get(url, stream=True)\n",
    "            df_local = pd.DataFrame(response_sales.json())\n",
    "            if df_local.size ==0:\n",
    "                break\n",
    "            \n",
    "            df = pd.concat([df,df_local])\n",
    "        return df\n",
    "    \n",
    "    \n",
    "    \n",
    "    "
   ]
  },
  {
   "cell_type": "markdown",
   "id": "fe94fef2",
   "metadata": {},
   "source": [
    "# Выгрузка и обработка датасетов"
   ]
  },
  {
   "cell_type": "markdown",
   "id": "727a6f48",
   "metadata": {},
   "source": [
    "Количество дней выгрузки"
   ]
  },
  {
   "cell_type": "code",
   "execution_count": 3,
   "id": "64ee589c",
   "metadata": {},
   "outputs": [],
   "source": [
    "days_range = 15"
   ]
  },
  {
   "cell_type": "code",
   "execution_count": 4,
   "id": "6ff0dca3",
   "metadata": {},
   "outputs": [],
   "source": [
    "from datetime import datetime,timedelta\n",
    "import time\n",
    "\n",
    "start_date = datetime.now() - timedelta(days=days_range)\n",
    "start_date = start_date.strftime('%Y-%m-%d')"
   ]
  },
  {
   "cell_type": "code",
   "execution_count": 5,
   "id": "8d10aa22",
   "metadata": {},
   "outputs": [],
   "source": [
    " date_now = datetime.now().strftime('%Y-%m-%d')"
   ]
  },
  {
   "cell_type": "code",
   "execution_count": 6,
   "id": "f13a7f4f",
   "metadata": {},
   "outputs": [
    {
     "data": {
      "text/plain": [
       "'2022-07-21'"
      ]
     },
     "execution_count": 6,
     "metadata": {},
     "output_type": "execute_result"
    }
   ],
   "source": [
    "start_date"
   ]
  },
  {
   "cell_type": "markdown",
   "id": "936a5c91",
   "metadata": {},
   "source": [
    "Выгружаем продажи. Если выгрузка идет в Jupyter то ячейку с API предварительно надо выполнить ячейку с классом API WB.\n",
    "\n",
    "Если выгрузка идет с сервера, то надо дописать выгрузку\n",
    "\n",
    "from Get_API_WB_DATA import Stock\n",
    "from Get_API_WB_DATA import Orders\n",
    "from Get_API_WB_DATA import Sales\n",
    "\n",
    "Get_API_WB_DATA - название py файла в папке со скриптом"
   ]
  },
  {
   "cell_type": "markdown",
   "id": "1c313dab",
   "metadata": {},
   "source": [
    "## Продажи WB"
   ]
  },
  {
   "cell_type": "code",
   "execution_count": 7,
   "id": "1ad840a7",
   "metadata": {
    "scrolled": true
   },
   "outputs": [],
   "source": [
    "df_sales = Sales().get_all_sales(start_date)"
   ]
  },
  {
   "cell_type": "code",
   "execution_count": 8,
   "id": "6a8c9300",
   "metadata": {},
   "outputs": [
    {
     "data": {
      "text/html": [
       "<div>\n",
       "<style scoped>\n",
       "    .dataframe tbody tr th:only-of-type {\n",
       "        vertical-align: middle;\n",
       "    }\n",
       "\n",
       "    .dataframe tbody tr th {\n",
       "        vertical-align: top;\n",
       "    }\n",
       "\n",
       "    .dataframe thead th {\n",
       "        text-align: right;\n",
       "    }\n",
       "</style>\n",
       "<table border=\"1\" class=\"dataframe\">\n",
       "  <thead>\n",
       "    <tr style=\"text-align: right;\">\n",
       "      <th></th>\n",
       "      <th>date</th>\n",
       "      <th>lastChangeDate</th>\n",
       "      <th>supplierArticle</th>\n",
       "      <th>techSize</th>\n",
       "      <th>barcode</th>\n",
       "      <th>totalPrice</th>\n",
       "      <th>discountPercent</th>\n",
       "      <th>isSupply</th>\n",
       "      <th>isRealization</th>\n",
       "      <th>promoCodeDiscount</th>\n",
       "      <th>...</th>\n",
       "      <th>finishedPrice</th>\n",
       "      <th>priceWithDisc</th>\n",
       "      <th>nmId</th>\n",
       "      <th>subject</th>\n",
       "      <th>category</th>\n",
       "      <th>brand</th>\n",
       "      <th>IsStorno</th>\n",
       "      <th>gNumber</th>\n",
       "      <th>sticker</th>\n",
       "      <th>srid</th>\n",
       "    </tr>\n",
       "  </thead>\n",
       "  <tbody>\n",
       "    <tr>\n",
       "      <th>0</th>\n",
       "      <td>2022-07-21T20:39:08</td>\n",
       "      <td>2022-07-21T21:00:53</td>\n",
       "      <td>1020110201</td>\n",
       "      <td>0</td>\n",
       "      <td>4039184102015</td>\n",
       "      <td>3760</td>\n",
       "      <td>45</td>\n",
       "      <td>False</td>\n",
       "      <td>True</td>\n",
       "      <td>0</td>\n",
       "      <td>...</td>\n",
       "      <td>1866.82</td>\n",
       "      <td>2120.25</td>\n",
       "      <td>2075446</td>\n",
       "      <td>Круги для плавания</td>\n",
       "      <td>Спортивный товар</td>\n",
       "      <td>SWIMTRAINER</td>\n",
       "      <td>0</td>\n",
       "      <td>1658389607400535511</td>\n",
       "      <td></td>\n",
       "      <td></td>\n",
       "    </tr>\n",
       "    <tr>\n",
       "      <th>1</th>\n",
       "      <td>2022-07-21T20:36:34</td>\n",
       "      <td>2022-07-21T21:00:53</td>\n",
       "      <td>tws-strawcup78593</td>\n",
       "      <td>0</td>\n",
       "      <td>7350083125934</td>\n",
       "      <td>1085</td>\n",
       "      <td>27</td>\n",
       "      <td>False</td>\n",
       "      <td>True</td>\n",
       "      <td>0</td>\n",
       "      <td>...</td>\n",
       "      <td>697.00</td>\n",
       "      <td>792.05</td>\n",
       "      <td>10002633</td>\n",
       "      <td>Поильники</td>\n",
       "      <td>Товары для малышей</td>\n",
       "      <td>Twistshake</td>\n",
       "      <td>0</td>\n",
       "      <td>91668749302533629091</td>\n",
       "      <td></td>\n",
       "      <td></td>\n",
       "    </tr>\n",
       "    <tr>\n",
       "      <th>2</th>\n",
       "      <td>2022-07-21T20:39:30</td>\n",
       "      <td>2022-07-21T21:00:53</td>\n",
       "      <td>tws-strawcup78588</td>\n",
       "      <td>0</td>\n",
       "      <td>7350083125880</td>\n",
       "      <td>1085</td>\n",
       "      <td>27</td>\n",
       "      <td>False</td>\n",
       "      <td>True</td>\n",
       "      <td>0</td>\n",
       "      <td>...</td>\n",
       "      <td>697.00</td>\n",
       "      <td>792.05</td>\n",
       "      <td>10002629</td>\n",
       "      <td>Поильники</td>\n",
       "      <td>Товары для малышей</td>\n",
       "      <td>Twistshake</td>\n",
       "      <td>0</td>\n",
       "      <td>92052952138051820930</td>\n",
       "      <td></td>\n",
       "      <td></td>\n",
       "    </tr>\n",
       "  </tbody>\n",
       "</table>\n",
       "<p>3 rows × 29 columns</p>\n",
       "</div>"
      ],
      "text/plain": [
       "                  date       lastChangeDate    supplierArticle techSize  \\\n",
       "0  2022-07-21T20:39:08  2022-07-21T21:00:53         1020110201        0   \n",
       "1  2022-07-21T20:36:34  2022-07-21T21:00:53  tws-strawcup78593        0   \n",
       "2  2022-07-21T20:39:30  2022-07-21T21:00:53  tws-strawcup78588        0   \n",
       "\n",
       "         barcode  totalPrice  discountPercent  isSupply  isRealization  \\\n",
       "0  4039184102015        3760               45     False           True   \n",
       "1  7350083125934        1085               27     False           True   \n",
       "2  7350083125880        1085               27     False           True   \n",
       "\n",
       "   promoCodeDiscount  ... finishedPrice priceWithDisc      nmId  \\\n",
       "0                  0  ...       1866.82       2120.25   2075446   \n",
       "1                  0  ...        697.00        792.05  10002633   \n",
       "2                  0  ...        697.00        792.05  10002629   \n",
       "\n",
       "              subject            category        brand  IsStorno  \\\n",
       "0  Круги для плавания    Спортивный товар  SWIMTRAINER         0   \n",
       "1           Поильники  Товары для малышей   Twistshake         0   \n",
       "2           Поильники  Товары для малышей   Twistshake         0   \n",
       "\n",
       "                gNumber  sticker  srid  \n",
       "0   1658389607400535511                 \n",
       "1  91668749302533629091                 \n",
       "2  92052952138051820930                 \n",
       "\n",
       "[3 rows x 29 columns]"
      ]
     },
     "execution_count": 8,
     "metadata": {},
     "output_type": "execute_result"
    }
   ],
   "source": [
    "df_sales.head(3)"
   ]
  },
  {
   "cell_type": "code",
   "execution_count": 9,
   "id": "ab425554",
   "metadata": {},
   "outputs": [],
   "source": [
    "time.sleep(60) # если сразу данные выгружать, то выдает ошибку"
   ]
  },
  {
   "cell_type": "markdown",
   "id": "96b41bbc",
   "metadata": {},
   "source": [
    "Далее надо убедиться, чтобы колонки не добавлялись и скрипт работал стабильно\n",
    "Для этого отберем из датасета стандартные колонки"
   ]
  },
  {
   "cell_type": "code",
   "execution_count": 10,
   "id": "19ac078f",
   "metadata": {},
   "outputs": [],
   "source": [
    "standart_col_sale = ['date', 'lastChangeDate', 'supplierArticle', 'techSize', 'barcode',\n",
    "       'totalPrice', 'discountPercent', 'isSupply', 'isRealization',\n",
    "       'promoCodeDiscount', 'warehouseName', 'countryName', 'oblastOkrugName',\n",
    "       'regionName', 'incomeID', 'saleID', 'odid', 'spp', 'forPay',\n",
    "       'finishedPrice', 'priceWithDisc', 'nmId', 'subject', 'category',\n",
    "       'brand', 'IsStorno', 'gNumber', 'sticker']"
   ]
  },
  {
   "cell_type": "code",
   "execution_count": 11,
   "id": "95e3d384",
   "metadata": {},
   "outputs": [],
   "source": [
    "df_sales = df_sales[standart_col_sale]"
   ]
  },
  {
   "cell_type": "markdown",
   "id": "3d3bb241",
   "metadata": {},
   "source": [
    "## Заказы WB"
   ]
  },
  {
   "cell_type": "code",
   "execution_count": 12,
   "id": "bf166596",
   "metadata": {
    "scrolled": true
   },
   "outputs": [],
   "source": [
    "df_order = Orders().get_all_orders(start_date)"
   ]
  },
  {
   "cell_type": "code",
   "execution_count": 13,
   "id": "5dc06d11",
   "metadata": {
    "scrolled": true
   },
   "outputs": [
    {
     "data": {
      "text/html": [
       "<div>\n",
       "<style scoped>\n",
       "    .dataframe tbody tr th:only-of-type {\n",
       "        vertical-align: middle;\n",
       "    }\n",
       "\n",
       "    .dataframe tbody tr th {\n",
       "        vertical-align: top;\n",
       "    }\n",
       "\n",
       "    .dataframe thead th {\n",
       "        text-align: right;\n",
       "    }\n",
       "</style>\n",
       "<table border=\"1\" class=\"dataframe\">\n",
       "  <thead>\n",
       "    <tr style=\"text-align: right;\">\n",
       "      <th></th>\n",
       "      <th>date</th>\n",
       "      <th>lastChangeDate</th>\n",
       "      <th>supplierArticle</th>\n",
       "      <th>techSize</th>\n",
       "      <th>barcode</th>\n",
       "      <th>totalPrice</th>\n",
       "      <th>discountPercent</th>\n",
       "      <th>warehouseName</th>\n",
       "      <th>oblast</th>\n",
       "      <th>incomeID</th>\n",
       "      <th>odid</th>\n",
       "      <th>nmId</th>\n",
       "      <th>subject</th>\n",
       "      <th>category</th>\n",
       "      <th>brand</th>\n",
       "      <th>isCancel</th>\n",
       "      <th>cancel_dt</th>\n",
       "      <th>gNumber</th>\n",
       "      <th>sticker</th>\n",
       "      <th>srid</th>\n",
       "    </tr>\n",
       "  </thead>\n",
       "  <tbody>\n",
       "    <tr>\n",
       "      <th>7010</th>\n",
       "      <td>2022-08-04T23:51:12</td>\n",
       "      <td>2022-08-05T06:54:26</td>\n",
       "      <td>alilo-R160908</td>\n",
       "      <td>0</td>\n",
       "      <td>6954644609089</td>\n",
       "      <td>4235.0</td>\n",
       "      <td>25</td>\n",
       "      <td>Санкт-Петербург 2</td>\n",
       "      <td>Псковская</td>\n",
       "      <td>7866200</td>\n",
       "      <td>600251615321</td>\n",
       "      <td>8694822</td>\n",
       "      <td>Игрушки интерактивные</td>\n",
       "      <td>Игрушки</td>\n",
       "      <td>Alilo</td>\n",
       "      <td>False</td>\n",
       "      <td>0001-01-01T00:00:00</td>\n",
       "      <td>6096230152841304041</td>\n",
       "      <td></td>\n",
       "      <td>3c72b5a4aa8640fca3bca54014c93687</td>\n",
       "    </tr>\n",
       "    <tr>\n",
       "      <th>7011</th>\n",
       "      <td>2022-08-04T23:51:30</td>\n",
       "      <td>2022-08-05T06:54:26</td>\n",
       "      <td>alilo-R160905</td>\n",
       "      <td>0</td>\n",
       "      <td>6954644609058</td>\n",
       "      <td>4235.0</td>\n",
       "      <td>25</td>\n",
       "      <td>Коледино</td>\n",
       "      <td>Ростовская</td>\n",
       "      <td>8258614</td>\n",
       "      <td>600251616220</td>\n",
       "      <td>8694820</td>\n",
       "      <td>Игрушки интерактивные</td>\n",
       "      <td>Игрушки</td>\n",
       "      <td>Alilo</td>\n",
       "      <td>False</td>\n",
       "      <td>0001-01-01T00:00:00</td>\n",
       "      <td>4617846645260307759</td>\n",
       "      <td></td>\n",
       "      <td>47a2fdb262c745da94e6c7bc2e9e4aee</td>\n",
       "    </tr>\n",
       "    <tr>\n",
       "      <th>7012</th>\n",
       "      <td>2022-08-04T23:53:43</td>\n",
       "      <td>2022-08-05T06:54:26</td>\n",
       "      <td>tws-bottle18078249</td>\n",
       "      <td>0</td>\n",
       "      <td>7350083122490</td>\n",
       "      <td>1105.0</td>\n",
       "      <td>33</td>\n",
       "      <td>Санкт-Петербург 2</td>\n",
       "      <td>Карелия</td>\n",
       "      <td>8334351</td>\n",
       "      <td>600251623833</td>\n",
       "      <td>9242187</td>\n",
       "      <td>Бутылочки для кормления</td>\n",
       "      <td>Товары для малышей</td>\n",
       "      <td>Twistshake</td>\n",
       "      <td>False</td>\n",
       "      <td>0001-01-01T00:00:00</td>\n",
       "      <td>8103674893549358226</td>\n",
       "      <td></td>\n",
       "      <td>b5684eb52bea4685b552ae6212fb3e92</td>\n",
       "    </tr>\n",
       "    <tr>\n",
       "      <th>7013</th>\n",
       "      <td>2022-08-04T23:56:23</td>\n",
       "      <td>2022-08-05T06:54:26</td>\n",
       "      <td>alilo-R160908</td>\n",
       "      <td>0</td>\n",
       "      <td>6954644609089</td>\n",
       "      <td>4235.0</td>\n",
       "      <td>25</td>\n",
       "      <td>Коледино</td>\n",
       "      <td>Краснодарский</td>\n",
       "      <td>8258614</td>\n",
       "      <td>600251632922</td>\n",
       "      <td>8694822</td>\n",
       "      <td>Игрушки интерактивные</td>\n",
       "      <td>Игрушки</td>\n",
       "      <td>Alilo</td>\n",
       "      <td>False</td>\n",
       "      <td>0001-01-01T00:00:00</td>\n",
       "      <td>98299114283244096874</td>\n",
       "      <td></td>\n",
       "      <td>448773a3665543629b488c73de2c7231</td>\n",
       "    </tr>\n",
       "  </tbody>\n",
       "</table>\n",
       "</div>"
      ],
      "text/plain": [
       "                     date       lastChangeDate     supplierArticle techSize  \\\n",
       "7010  2022-08-04T23:51:12  2022-08-05T06:54:26       alilo-R160908        0   \n",
       "7011  2022-08-04T23:51:30  2022-08-05T06:54:26       alilo-R160905        0   \n",
       "7012  2022-08-04T23:53:43  2022-08-05T06:54:26  tws-bottle18078249        0   \n",
       "7013  2022-08-04T23:56:23  2022-08-05T06:54:26       alilo-R160908        0   \n",
       "\n",
       "            barcode  totalPrice  discountPercent      warehouseName  \\\n",
       "7010  6954644609089      4235.0               25  Санкт-Петербург 2   \n",
       "7011  6954644609058      4235.0               25           Коледино   \n",
       "7012  7350083122490      1105.0               33  Санкт-Петербург 2   \n",
       "7013  6954644609089      4235.0               25           Коледино   \n",
       "\n",
       "             oblast  incomeID          odid     nmId                  subject  \\\n",
       "7010      Псковская   7866200  600251615321  8694822    Игрушки интерактивные   \n",
       "7011     Ростовская   8258614  600251616220  8694820    Игрушки интерактивные   \n",
       "7012        Карелия   8334351  600251623833  9242187  Бутылочки для кормления   \n",
       "7013  Краснодарский   8258614  600251632922  8694822    Игрушки интерактивные   \n",
       "\n",
       "                category       brand  isCancel            cancel_dt  \\\n",
       "7010             Игрушки       Alilo     False  0001-01-01T00:00:00   \n",
       "7011             Игрушки       Alilo     False  0001-01-01T00:00:00   \n",
       "7012  Товары для малышей  Twistshake     False  0001-01-01T00:00:00   \n",
       "7013             Игрушки       Alilo     False  0001-01-01T00:00:00   \n",
       "\n",
       "                   gNumber sticker                              srid  \n",
       "7010   6096230152841304041          3c72b5a4aa8640fca3bca54014c93687  \n",
       "7011   4617846645260307759          47a2fdb262c745da94e6c7bc2e9e4aee  \n",
       "7012   8103674893549358226          b5684eb52bea4685b552ae6212fb3e92  \n",
       "7013  98299114283244096874          448773a3665543629b488c73de2c7231  "
      ]
     },
     "execution_count": 13,
     "metadata": {},
     "output_type": "execute_result"
    }
   ],
   "source": [
    "df_order.tail(4)"
   ]
  },
  {
   "cell_type": "code",
   "execution_count": 14,
   "id": "514f2110",
   "metadata": {},
   "outputs": [],
   "source": [
    "time.sleep(60)"
   ]
  },
  {
   "cell_type": "code",
   "execution_count": 15,
   "id": "0b1ad681",
   "metadata": {},
   "outputs": [],
   "source": [
    "standart_col_order = ['date', 'lastChangeDate', 'supplierArticle', 'techSize', 'barcode',\n",
    "       'totalPrice', 'discountPercent', 'warehouseName', 'oblast', 'incomeID',\n",
    "       'odid', 'nmId', 'subject', 'category', 'brand', 'isCancel', 'cancel_dt',\n",
    "       'gNumber', 'sticker']"
   ]
  },
  {
   "cell_type": "code",
   "execution_count": 16,
   "id": "84f6beaf",
   "metadata": {},
   "outputs": [],
   "source": [
    "df_order = df_order[standart_col_order]"
   ]
  },
  {
   "cell_type": "markdown",
   "id": "eedef551",
   "metadata": {},
   "source": [
    "# Остатки WB"
   ]
  },
  {
   "cell_type": "code",
   "execution_count": 17,
   "id": "6bbb4c46",
   "metadata": {},
   "outputs": [],
   "source": [
    "df_stock = Stock().get_stock()"
   ]
  },
  {
   "cell_type": "code",
   "execution_count": 18,
   "id": "59202215",
   "metadata": {},
   "outputs": [],
   "source": [
    "df_stock.loc[:,'Date'] = date_now"
   ]
  },
  {
   "cell_type": "code",
   "execution_count": 19,
   "id": "0e42f85e",
   "metadata": {},
   "outputs": [
    {
     "data": {
      "text/html": [
       "<div>\n",
       "<style scoped>\n",
       "    .dataframe tbody tr th:only-of-type {\n",
       "        vertical-align: middle;\n",
       "    }\n",
       "\n",
       "    .dataframe tbody tr th {\n",
       "        vertical-align: top;\n",
       "    }\n",
       "\n",
       "    .dataframe thead th {\n",
       "        text-align: right;\n",
       "    }\n",
       "</style>\n",
       "<table border=\"1\" class=\"dataframe\">\n",
       "  <thead>\n",
       "    <tr style=\"text-align: right;\">\n",
       "      <th></th>\n",
       "      <th>lastChangeDate</th>\n",
       "      <th>supplierArticle</th>\n",
       "      <th>techSize</th>\n",
       "      <th>barcode</th>\n",
       "      <th>quantity</th>\n",
       "      <th>isSupply</th>\n",
       "      <th>isRealization</th>\n",
       "      <th>quantityFull</th>\n",
       "      <th>quantityNotInOrders</th>\n",
       "      <th>warehouse</th>\n",
       "      <th>...</th>\n",
       "      <th>inWayFromClient</th>\n",
       "      <th>nmId</th>\n",
       "      <th>subject</th>\n",
       "      <th>category</th>\n",
       "      <th>daysOnSite</th>\n",
       "      <th>brand</th>\n",
       "      <th>SCCode</th>\n",
       "      <th>Price</th>\n",
       "      <th>Discount</th>\n",
       "      <th>Date</th>\n",
       "    </tr>\n",
       "  </thead>\n",
       "  <tbody>\n",
       "    <tr>\n",
       "      <th>0</th>\n",
       "      <td>2021-12-31T02:49:31.163</td>\n",
       "      <td>ZA-BO-01ZA-BO-01</td>\n",
       "      <td>0</td>\n",
       "      <td>0703625107115</td>\n",
       "      <td>0</td>\n",
       "      <td>False</td>\n",
       "      <td>True</td>\n",
       "      <td>1</td>\n",
       "      <td>0</td>\n",
       "      <td>6</td>\n",
       "      <td>...</td>\n",
       "      <td>0</td>\n",
       "      <td>6406795</td>\n",
       "      <td>Ночники</td>\n",
       "      <td>Дом</td>\n",
       "      <td>1184</td>\n",
       "      <td>ZAZU</td>\n",
       "      <td>3100-8906</td>\n",
       "      <td>3685</td>\n",
       "      <td>35</td>\n",
       "      <td>2022-08-05</td>\n",
       "    </tr>\n",
       "    <tr>\n",
       "      <th>1</th>\n",
       "      <td>2021-12-31T02:49:31.163</td>\n",
       "      <td>ltd-bag1-liteL10_02_030_GRY</td>\n",
       "      <td>S 3.5-6 кг</td>\n",
       "      <td>2001573374008</td>\n",
       "      <td>0</td>\n",
       "      <td>False</td>\n",
       "      <td>True</td>\n",
       "      <td>1</td>\n",
       "      <td>0</td>\n",
       "      <td>3</td>\n",
       "      <td>...</td>\n",
       "      <td>0</td>\n",
       "      <td>21674409</td>\n",
       "      <td>Конверты для пеленания</td>\n",
       "      <td>Товары для малышей</td>\n",
       "      <td>273</td>\n",
       "      <td>Love To Dream</td>\n",
       "      <td>3100-8906</td>\n",
       "      <td>1845</td>\n",
       "      <td>8</td>\n",
       "      <td>2022-08-05</td>\n",
       "    </tr>\n",
       "    <tr>\n",
       "      <th>2</th>\n",
       "      <td>2022-07-08T04:29:27.043</td>\n",
       "      <td>bab-avi3NAV-008</td>\n",
       "      <td>3-7лет</td>\n",
       "      <td>0857788003071</td>\n",
       "      <td>0</td>\n",
       "      <td>False</td>\n",
       "      <td>True</td>\n",
       "      <td>1</td>\n",
       "      <td>1</td>\n",
       "      <td>1</td>\n",
       "      <td>...</td>\n",
       "      <td>0</td>\n",
       "      <td>2075466</td>\n",
       "      <td>Солнцезащитные очки</td>\n",
       "      <td>Аксессуары</td>\n",
       "      <td>0</td>\n",
       "      <td>Babiators</td>\n",
       "      <td>3100-8906</td>\n",
       "      <td>3430</td>\n",
       "      <td>20</td>\n",
       "      <td>2022-08-05</td>\n",
       "    </tr>\n",
       "  </tbody>\n",
       "</table>\n",
       "<p>3 rows × 22 columns</p>\n",
       "</div>"
      ],
      "text/plain": [
       "            lastChangeDate              supplierArticle    techSize  \\\n",
       "0  2021-12-31T02:49:31.163             ZA-BO-01ZA-BO-01           0   \n",
       "1  2021-12-31T02:49:31.163  ltd-bag1-liteL10_02_030_GRY  S 3.5-6 кг   \n",
       "2  2022-07-08T04:29:27.043              bab-avi3NAV-008      3-7лет   \n",
       "\n",
       "         barcode  quantity  isSupply  isRealization  quantityFull  \\\n",
       "0  0703625107115         0     False           True             1   \n",
       "1  2001573374008         0     False           True             1   \n",
       "2  0857788003071         0     False           True             1   \n",
       "\n",
       "   quantityNotInOrders  warehouse  ... inWayFromClient      nmId  \\\n",
       "0                    0          6  ...               0   6406795   \n",
       "1                    0          3  ...               0  21674409   \n",
       "2                    1          1  ...               0   2075466   \n",
       "\n",
       "                  subject            category daysOnSite          brand  \\\n",
       "0                 Ночники                 Дом       1184           ZAZU   \n",
       "1  Конверты для пеленания  Товары для малышей        273  Love To Dream   \n",
       "2     Солнцезащитные очки          Аксессуары          0      Babiators   \n",
       "\n",
       "      SCCode Price Discount        Date  \n",
       "0  3100-8906  3685       35  2022-08-05  \n",
       "1  3100-8906  1845        8  2022-08-05  \n",
       "2  3100-8906  3430       20  2022-08-05  \n",
       "\n",
       "[3 rows x 22 columns]"
      ]
     },
     "execution_count": 19,
     "metadata": {},
     "output_type": "execute_result"
    }
   ],
   "source": [
    "df_stock.head(3)"
   ]
  },
  {
   "cell_type": "code",
   "execution_count": 20,
   "id": "89eb20bd",
   "metadata": {},
   "outputs": [],
   "source": [
    "standart_col_stock = ['lastChangeDate', 'supplierArticle', 'techSize', 'barcode', 'quantity',\n",
    "       'isSupply', 'isRealization', 'quantityFull', 'quantityNotInOrders',\n",
    "       'warehouse', 'warehouseName', 'inWayToClient', 'inWayFromClient',\n",
    "       'nmId', 'subject', 'category', 'daysOnSite', 'brand', 'SCCode', 'Price',\n",
    "       'Discount', 'Date']"
   ]
  },
  {
   "cell_type": "code",
   "execution_count": 21,
   "id": "d5c8a61e",
   "metadata": {},
   "outputs": [],
   "source": [
    "df_stock = df_stock[standart_col_stock]"
   ]
  },
  {
   "cell_type": "markdown",
   "id": "bcdd0be9",
   "metadata": {},
   "source": [
    "# Обработка данных "
   ]
  },
  {
   "cell_type": "code",
   "execution_count": 22,
   "id": "b55d11a9",
   "metadata": {},
   "outputs": [],
   "source": [
    "df_order = df_order.astype(\n",
    "    {'incomeID': 'str', \n",
    "     'odid': 'str',\n",
    "     'nmId': 'str'})\n",
    "\n",
    "df_sales = df_sales.astype(\n",
    "    {'incomeID': 'str', \n",
    "     'odid': 'str',\n",
    "     'nmId': 'str'})\n",
    "\n",
    "df_stock =df_stock.astype({'nmId': 'str'})"
   ]
  },
  {
   "cell_type": "code",
   "execution_count": 23,
   "id": "3c725f5c",
   "metadata": {},
   "outputs": [],
   "source": [
    "# выгрузка датафрэйма с проблемными баркодами\n",
    "path_wb_ms = '/Users/Aleksey/Documents/Файлы для БД/WB_MS.xlsx'\n",
    "df_ms_wb_code = pd.read_excel(path_wb_ms,dtype = {'nmId': 'str', \n",
    "     'barcode': 'str',\n",
    "     'barcode_ms': 'str'})\n",
    "\n",
    "df_ms_wb_code = df_ms_wb_code[['nmId','barcode_ms']]"
   ]
  },
  {
   "cell_type": "code",
   "execution_count": 24,
   "id": "0d7cf638",
   "metadata": {},
   "outputs": [],
   "source": [
    "def set_code(data):\n",
    "    data = data.merge(right = df_ms_wb_code,how = 'left', \n",
    "                          on = 'nmId',suffixes = ('_wb','_wb_2'))\n",
    "    data.loc[data['barcode_ms'].isnull(),'barcode_ms'] = data.loc[data['barcode_ms'].isnull(),'barcode']\n",
    "    return data"
   ]
  },
  {
   "cell_type": "code",
   "execution_count": 25,
   "id": "a844f947",
   "metadata": {},
   "outputs": [],
   "source": [
    "df_order = set_code(df_order)"
   ]
  },
  {
   "cell_type": "code",
   "execution_count": 26,
   "id": "ed79dc49",
   "metadata": {},
   "outputs": [],
   "source": [
    "df_stock = set_code(df_stock)"
   ]
  },
  {
   "cell_type": "code",
   "execution_count": 27,
   "id": "a70c45a6",
   "metadata": {},
   "outputs": [],
   "source": [
    "df_sales = set_code(df_sales)"
   ]
  },
  {
   "cell_type": "code",
   "execution_count": 28,
   "id": "49985c84",
   "metadata": {},
   "outputs": [
    {
     "name": "stdout",
     "output_type": "stream",
     "text": [
      "error\n",
      "error\n",
      "ok, "
     ]
    }
   ],
   "source": [
    "for datadrame_wb in [df_order,df_stock,df_sales]:\n",
    "    if datadrame_wb[datadrame_wb.barcode_ms == \"\"].size.sum()>0:\n",
    "        print('error')\n",
    "    else:\n",
    "        print('ok',end = ', ')"
   ]
  },
  {
   "cell_type": "markdown",
   "id": "9eafdc95",
   "metadata": {},
   "source": [
    "# Коннект с базой данных"
   ]
  },
  {
   "cell_type": "code",
   "execution_count": 29,
   "id": "eb81b456",
   "metadata": {},
   "outputs": [],
   "source": [
    "import sqlalchemy\n",
    "import pandas as pd\n",
    "\n",
    "database_username = 'alex'\n",
    "database_password = 'dnr83jfy73Bv3hjjJ'\n",
    "database_ip       = '82.146.50.47'\n",
    "database_name     = 'm2c'\n",
    "database_connection = sqlalchemy.create_engine('mysql+mysqlconnector://{0}:{1}@{2}/{3}'.\n",
    "                                               format(database_username, database_password, \n",
    "                                                      database_ip, database_name))"
   ]
  },
  {
   "cell_type": "code",
   "execution_count": 30,
   "id": "a2051ff5",
   "metadata": {},
   "outputs": [],
   "source": [
    "name_main_table_order = 'wb_order'\n",
    "name_main_table_sale = 'wb_sale'\n",
    "name_main_table_stock = 'wb_stock'"
   ]
  },
  {
   "cell_type": "markdown",
   "id": "eac515de",
   "metadata": {},
   "source": [
    "Для начала необходимо создать order таблицу, затем при помощи JOIN объединить их по уникальному ID\n",
    "Для таблиц order и sales это \"odid\""
   ]
  },
  {
   "cell_type": "code",
   "execution_count": 31,
   "id": "bbdc77b8",
   "metadata": {},
   "outputs": [],
   "source": [
    "def join_table(name_table,data):\n",
    "    name_temp = name_table+'_temp'\n",
    "    for i in range(0,len(data),50):\n",
    "        with database_connection.begin() as connection:\n",
    "            data.iloc[i:i+50].to_sql(con=connection, name=name_temp, if_exists='append')\n",
    "            if i%1000==0:\n",
    "                print(i, end=', ')\n",
    "                \n",
    "    SQL_DROP = f\"\"\"DELETE FROM {name_table} \n",
    "    where {name_table}.odid in (select odid from {name_temp})\"\"\"\n",
    "    \n",
    "    result = database_connection.execute(SQL_DROP)\n",
    "    result = database_connection.execute(f\"INSERT INTO {name_table} SELECT * FROM {name_temp}\")\n",
    "    result = database_connection.execute(f\"DROP TABLE {name_temp}\")\n",
    "    \n",
    "    \n",
    "def join_stock(name_table, data):\n",
    "    name_temp = name_table+'_temp'\n",
    "    for i in range(0,len(data),50):\n",
    "        with database_connection.begin() as connection:\n",
    "            data.iloc[i:i+50].to_sql(con=connection, name=name_temp, if_exists='append')\n",
    "            if i%1000==0:\n",
    "                print(i, end=', ')\n",
    "                \n",
    "    SQL_DROP = f\"\"\"DELETE FROM {name_table} \n",
    "    where {name_table}.Date = '{date_now}'\"\"\"\n",
    "    \n",
    "    result = database_connection.execute(SQL_DROP)\n",
    "    result = database_connection.execute(f\"INSERT INTO {name_table} SELECT * FROM {name_temp}\")\n",
    "    result = database_connection.execute(f\"DROP TABLE {name_temp}\")"
   ]
  },
  {
   "cell_type": "code",
   "execution_count": 32,
   "id": "233aca86",
   "metadata": {},
   "outputs": [
    {
     "name": "stdout",
     "output_type": "stream",
     "text": [
      "0, 1000, 2000, 3000, 4000, 5000, 6000, 7000, "
     ]
    }
   ],
   "source": [
    "join_table(name_main_table_order,df_order)"
   ]
  },
  {
   "cell_type": "code",
   "execution_count": 33,
   "id": "fac3a630",
   "metadata": {},
   "outputs": [
    {
     "name": "stdout",
     "output_type": "stream",
     "text": [
      "0, 1000, 2000, 3000, 4000, 5000, 6000, "
     ]
    }
   ],
   "source": [
    "join_table(name_main_table_sale,df_sales)"
   ]
  },
  {
   "cell_type": "code",
   "execution_count": 34,
   "id": "c4789b12",
   "metadata": {},
   "outputs": [
    {
     "name": "stdout",
     "output_type": "stream",
     "text": [
      "0, 1000, 2000, "
     ]
    }
   ],
   "source": [
    "join_stock(name_main_table_stock,df_stock)"
   ]
  },
  {
   "cell_type": "code",
   "execution_count": 35,
   "id": "5851f2c3",
   "metadata": {},
   "outputs": [],
   "source": [
    "database_connection.dispose()"
   ]
  },
  {
   "cell_type": "markdown",
   "id": "334483cb",
   "metadata": {},
   "source": [
    "Вариант когда нету таблицы"
   ]
  },
  {
   "cell_type": "code",
   "execution_count": 29,
   "id": "5c1212d9",
   "metadata": {},
   "outputs": [],
   "source": [
    "# def insert_table(name_table,data):\n",
    "#     for i in range(0,len(data),50):\n",
    "#         with database_connection.begin() as connection:\n",
    "#             data.iloc[i:i+50].to_sql(con=connection, name=name_table, if_exists='append')\n",
    "#             if i%1000==0:\n",
    "#                 print(i, end=', ')"
   ]
  },
  {
   "cell_type": "code",
   "execution_count": 30,
   "id": "c0f67607",
   "metadata": {},
   "outputs": [
    {
     "name": "stdout",
     "output_type": "stream",
     "text": [
      "0, 1000, 2000, 3000, 4000, 5000, 6000, 7000, "
     ]
    }
   ],
   "source": [
    "# insert_table(name_main_table_order,df_order)"
   ]
  },
  {
   "cell_type": "code",
   "execution_count": 31,
   "id": "8150eecd",
   "metadata": {},
   "outputs": [
    {
     "name": "stdout",
     "output_type": "stream",
     "text": [
      "0, 1000, 2000, 3000, 4000, 5000, 6000, "
     ]
    }
   ],
   "source": [
    "# insert_table(name_main_table_sale,df_sales)"
   ]
  },
  {
   "cell_type": "code",
   "execution_count": 32,
   "id": "fd44275c",
   "metadata": {},
   "outputs": [
    {
     "name": "stdout",
     "output_type": "stream",
     "text": [
      "0, 1000, 2000, "
     ]
    }
   ],
   "source": [
    "# insert_table(name_main_table_stock,df_stock)"
   ]
  },
  {
   "cell_type": "code",
   "execution_count": null,
   "id": "4e0a0855",
   "metadata": {},
   "outputs": [],
   "source": []
  },
  {
   "cell_type": "code",
   "execution_count": null,
   "id": "b82770d4",
   "metadata": {},
   "outputs": [],
   "source": []
  }
 ],
 "metadata": {
  "kernelspec": {
   "display_name": "Python 3 (ipykernel)",
   "language": "python",
   "name": "python3"
  },
  "language_info": {
   "codemirror_mode": {
    "name": "ipython",
    "version": 3
   },
   "file_extension": ".py",
   "mimetype": "text/x-python",
   "name": "python",
   "nbconvert_exporter": "python",
   "pygments_lexer": "ipython3",
   "version": "3.8.8"
  },
  "latex_envs": {
   "LaTeX_envs_menu_present": true,
   "autoclose": false,
   "autocomplete": true,
   "bibliofile": "biblio.bib",
   "cite_by": "apalike",
   "current_citInitial": 1,
   "eqLabelWithNumbers": true,
   "eqNumInitial": 1,
   "hotkeys": {
    "equation": "Ctrl-E",
    "itemize": "Ctrl-I"
   },
   "labels_anchors": false,
   "latex_user_defs": false,
   "report_style_numbering": false,
   "user_envs_cfg": false
  },
  "toc": {
   "base_numbering": 1,
   "nav_menu": {},
   "number_sections": true,
   "sideBar": true,
   "skip_h1_title": false,
   "title_cell": "Table of Contents",
   "title_sidebar": "Contents",
   "toc_cell": false,
   "toc_position": {},
   "toc_section_display": true,
   "toc_window_display": false
  }
 },
 "nbformat": 4,
 "nbformat_minor": 5
}
