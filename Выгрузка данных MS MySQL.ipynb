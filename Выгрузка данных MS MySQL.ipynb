{
 "cells": [
  {
   "cell_type": "code",
   "execution_count": 1,
   "id": "edd45c2f",
   "metadata": {},
   "outputs": [],
   "source": [
    "import base64\n",
    "import requests\n",
    "import json\n",
    "import pandas as pd\n",
    "\n",
    "User = \"\"\n",
    "Password = \"\"\n",
    "\n",
    "headers = {\"Authorization\": \"Basic \" + str(base64.b64encode(bytes(User + \":\" + Password,'utf-8')).decode('utf-8'))}\n",
    "\n",
    "def toHtmlQuery_(**kwargs):\n",
    "    \"\"\"Возвращает строку для загрузки в api\"\"\"\n",
    "    resultstr = \"\"\n",
    "    for key, value in kwargs.items():\n",
    "        if resultstr==\"\":\n",
    "            resultstr = \"?\"+key+\"=\"+str(value)\n",
    "        else:\n",
    "            resultstr = resultstr+\"&\"+key+\"=\"+str(value)\n",
    "    return resultstr\n",
    "\n",
    "def get_data(url,params={'':''}):\n",
    "    \"\"\"Получает Json объект по api запросу\"\"\"\n",
    "    encParams = toHtmlQuery_(**params)\n",
    "    response = requests.get(url+encParams, headers=headers)\n",
    "    return response.json()\n",
    "\n",
    "def offset_params(offset_num:int,params:dict)->dict:\n",
    "    \"\"\"меняет параметр в словаре params\"\"\"\n",
    "    params['offset'] = params['limit']*offset_num\n",
    "    return params\n",
    "\n",
    "\n"
   ]
  },
  {
   "cell_type": "markdown",
   "id": "986289b4",
   "metadata": {},
   "source": [
    "# Необходимо получить список всех покупателей в заданный период "
   ]
  },
  {
   "cell_type": "code",
   "execution_count": 2,
   "id": "55d54137",
   "metadata": {},
   "outputs": [],
   "source": [
    "class CounterParty():\n",
    "    def __init__(self, date_start,date_finish):\n",
    "        \"\"\"формат даты 2021-01-01\"\"\"\n",
    "        self.date_start = date_start\n",
    "        self.date_finish = date_finish\n",
    "        self.api_method_counterparty = \"https://online.moysklad.ru/api/remap/1.2/report/profit/bycounterparty\"\n",
    "        self.params_profit = {\n",
    "                \"limit\": 1000, \n",
    "                \"momentFrom\":self.date_start+\" 00:00:00\",\n",
    "                \"momentTo\":  self.date_finish+\" 23:59:00\"} \n",
    "        \n",
    "        \n",
    "    def get_counterparty_json(self, num_circle):\n",
    "        params = offset_params(0,self.params_profit)\n",
    "        data =  get_data(self.api_method_counterparty,params)['rows']\n",
    "        return data\n",
    "    \n",
    "    def get_all_counterparty_json(self):\n",
    "        data_counterparty_json = []\n",
    "        for i in range(0,100):\n",
    "            print(i)   \n",
    "            data = self.get_counterparty_json(i)\n",
    "            \n",
    "            if len(data) ==0:\n",
    "                return data_counterparty_json\n",
    "\n",
    "            data_counterparty_json += data\n",
    "            return data_counterparty_json\n",
    "        \n",
    "    def get_list_counterparty(self):\n",
    "        data_json_counterparty = self.get_all_counterparty_json()\n",
    "        list_counterparty = []\n",
    "        \n",
    "        for num,elem in enumerate(data_json_counterparty):\n",
    "            list_counterparty.append(\n",
    "            [elem['counterparty']['meta']['href'],\n",
    "             elem['counterparty']['name']])\n",
    "        return list_counterparty\n",
    "        "
   ]
  },
  {
   "cell_type": "markdown",
   "id": "93b02a47",
   "metadata": {},
   "source": [
    "# Выгрузка отчета по прибыльности по товарам по контрагенту"
   ]
  },
  {
   "cell_type": "code",
   "execution_count": 3,
   "id": "4596c31e",
   "metadata": {},
   "outputs": [],
   "source": [
    "class ReportData():\n",
    "    def __init__(self,counterpartyid,date_start,date_finish):\n",
    "        self.date_start = date_start\n",
    "        self.date_finish = date_finish\n",
    "        self.counterpartyid = counterpartyid\n",
    "        self.api_methon_get_data = \"https://online.moysklad.ru/api/remap/1.2/report/profit/byproduct\"\n",
    "        self.params_profit = {\n",
    "                \"limit\": 1000, \n",
    "                \"momentFrom\":self.date_start+\" 00:00:00\",\n",
    "                \"momentTo\":  self.date_finish+\" 23:59:00\",\n",
    "                \"filter\": \"counterparty=\"+counterpartyid} \n",
    "        \n",
    "        \n",
    "    def get_report_data_json(self, num_circle):\n",
    "        params = offset_params(0,self.params_profit)\n",
    "        data =  get_data(self.api_methon_get_data,params)['rows']\n",
    "        return data\n",
    "    \n",
    "    def get_all_report_data_json(self):\n",
    "        data_counterparty_json = []\n",
    "        for i in range(0,100):\n",
    "            print(i,end = ', ')   \n",
    "            data = self.get_report_data_json(i)\n",
    "            \n",
    "            if len(data) ==0:\n",
    "                return data_counterparty_json\n",
    "\n",
    "            data_counterparty_json += data\n",
    "            return data_counterparty_json\n",
    "        "
   ]
  },
  {
   "cell_type": "markdown",
   "id": "0b0f51ca",
   "metadata": {},
   "source": [
    "# Совмещение отчетов и обработка"
   ]
  },
  {
   "cell_type": "code",
   "execution_count": 115,
   "id": "8e7763a6",
   "metadata": {},
   "outputs": [],
   "source": [
    "date_start = \"2021-12-01\""
   ]
  },
  {
   "cell_type": "code",
   "execution_count": 116,
   "id": "a05c4b05",
   "metadata": {},
   "outputs": [],
   "source": [
    "def finish_month(date:str):\n",
    "    \"\"\"формат 2021-01-01\"\"\"\n",
    "    from datetime import timedelta\n",
    "    import datetime\n",
    "    \n",
    "    dt = datetime.datetime.strptime(date, \"%Y-%m-%d\")\n",
    "    finish_date = datetime.date(dt.year,dt.month+1,1)-timedelta(days=1)\n",
    "    return finish_date.strftime(\"%Y-%m-%d\")"
   ]
  },
  {
   "cell_type": "code",
   "execution_count": 118,
   "id": "3537b1d2",
   "metadata": {},
   "outputs": [],
   "source": [
    "#date_finish = finish_month(date_start)\n",
    "date_finish =\"2021-12-31\""
   ]
  },
  {
   "cell_type": "code",
   "execution_count": 119,
   "id": "dfb9f31e",
   "metadata": {},
   "outputs": [
    {
     "data": {
      "text/plain": [
       "'2021-12-31'"
      ]
     },
     "execution_count": 119,
     "metadata": {},
     "output_type": "execute_result"
    }
   ],
   "source": [
    "date_finish"
   ]
  },
  {
   "cell_type": "code",
   "execution_count": 120,
   "id": "f058eb55",
   "metadata": {},
   "outputs": [],
   "source": [
    "def parse_couterparty(json_couterparty_data,name_counterparty,href_counterparty):\n",
    "    \"\"\"промежуточная функция чтобы распарсить полученный JSON \n",
    "    объект в словарь\"\"\"\n",
    "    data_contractor_sale = []\n",
    "    for elem in json_couterparty_data:\n",
    "        if 'article' in elem['assortment']:\n",
    "            article = elem['assortment']['article']\n",
    "        else:\n",
    "            article='---'\n",
    "\n",
    "        data_contractor_sale.append({\n",
    "            'Name_counterparty':name_counterparty,\n",
    "            'href_counterparty':href_counterparty,\n",
    "            'Date':date_start,\n",
    "            'Name':elem['assortment']['name'],\n",
    "            'Code':elem['assortment']['code'],\n",
    "            'Article':article,\n",
    "            'SellQuantity':elem['sellQuantity'],\n",
    "            'SellCostSum':elem['sellCostSum'],\n",
    "            'SellSum':elem['sellSum'],\n",
    "            'returnQuantity':elem['returnQuantity'],\n",
    "            'returnPrice':elem['returnPrice'],\n",
    "            'returnCost':elem['returnCost'],\n",
    "            'returnSum':elem['returnSum']\n",
    "        })\n",
    "        \n",
    "    return data_contractor_sale"
   ]
  },
  {
   "cell_type": "code",
   "execution_count": 121,
   "id": "51f73287",
   "metadata": {},
   "outputs": [],
   "source": [
    "def get_tag_counterparty(href_couterparty):\n",
    "    api_method = href_couterparty\n",
    "    data = get_data(api_method)\n",
    "    \n",
    "    if 'tags' in data:\n",
    "        return data['tags']\n",
    "    else:\n",
    "        return '---'"
   ]
  },
  {
   "cell_type": "code",
   "execution_count": 122,
   "id": "cdc744bd",
   "metadata": {},
   "outputs": [],
   "source": [
    "CP_obj = CounterParty(\n",
    "    date_start = date_start,\n",
    "    date_finish = date_finish,\n",
    ")"
   ]
  },
  {
   "cell_type": "code",
   "execution_count": 123,
   "id": "640cec6f",
   "metadata": {},
   "outputs": [
    {
     "name": "stdout",
     "output_type": "stream",
     "text": [
      "0\n"
     ]
    }
   ],
   "source": [
    "list_counterpatry = CP_obj.get_list_counterparty()"
   ]
  },
  {
   "cell_type": "code",
   "execution_count": 124,
   "id": "d674491c",
   "metadata": {},
   "outputs": [],
   "source": [
    "date_all_data = []"
   ]
  },
  {
   "cell_type": "code",
   "execution_count": 125,
   "id": "88fcf9c3",
   "metadata": {},
   "outputs": [
    {
     "name": "stdout",
     "output_type": "stream",
     "text": [
      "0, 0, 0, 1, 0, 2, 0, 3, 0, 4, 0, 5, 0, 6, 0, 7, 0, 8, 0, 9, 0, 10, 0, 11, 0, 12, 0, 13, 0, 14, 0, 15, 0, 16, 0, 17, 0, 18, 0, 19, 0, 20, 0, 21, 0, 22, 0, 23, 0, 24, 0, 25, 0, 26, 0, 27, 0, 28, 0, 29, 0, 30, 0, 31, 0, 32, 0, 33, 0, 34, 0, 35, 0, 36, 0, 37, 0, 38, 0, 39, 0, 40, 0, 41, 0, 42, 0, 43, 0, 44, 0, 45, 0, 46, 0, 47, 0, 48, 0, 49, 0, 50, 0, 51, 0, 52, 0, 53, 0, 54, 0, 55, 0, 56, 0, 57, 0, 58, 0, 59, 0, 60, 0, 61, 0, 62, 0, 63, 0, 64, 0, 65, 0, 66, 0, 67, 0, 68, 0, 69, 0, 70, 0, 71, 0, 72, 0, 73, 0, 74, 0, 75, 0, 76, 0, 77, 0, 78, 0, 79, 0, 80, 0, 81, 0, 82, 0, 83, 0, 84, 0, 85, 0, 86, 0, 87, 0, 88, 0, 89, 0, 90, 0, 91, 0, 92, 0, 93, 0, 94, 0, 95, 0, 96, 0, 97, 0, 98, 0, 99, 0, 100, 0, 101, 0, 102, 0, 103, 0, 104, 0, 105, 0, 106, 0, 107, 0, 108, 0, 109, 0, 110, 0, 111, 0, 112, 0, 113, 0, 114, 0, 115, 0, 116, 0, 117, 0, 118, 0, 119, 0, 120, 0, 121, 0, 122, 0, 123, 0, 124, 0, 125, 0, 126, 0, 127, 0, 128, 0, 129, 0, 130, 0, 131, 0, 132, 0, 133, 0, 134, 0, 135, 0, 136, 0, 137, 0, 138, 0, 139, 0, 140, 0, 141, 0, 142, 0, 143, 0, 144, 0, 145, 0, 146, 0, 147, 0, 148, 0, 149, 0, 150, 0, 151, 0, 152, 0, 153, 0, 154, 0, 155, 0, 156, 0, 157, 0, 158, 0, 159, 0, 160, 0, 161, 0, 162, 0, 163, 0, 164, 0, 165, 0, 166, 0, 167, 0, 168, 0, 169, 0, 170, 0, 171, 0, 172, 0, 173, 0, 174, 0, 175, 0, 176, "
     ]
    }
   ],
   "source": [
    "for num,counterparty in enumerate(list_counterpatry):\n",
    "    RD_obj = ReportData(\n",
    "        date_start = date_start,\n",
    "        date_finish = date_finish,\n",
    "        counterpartyid = counterparty[0],\n",
    "    )\n",
    "    \n",
    "    data_counterparty = RD_obj.get_all_report_data_json()\n",
    "    data_counterparty_1 = parse_couterparty(data_counterparty,\n",
    "                                           name_counterparty = counterparty[1],\n",
    "                                           href_counterparty = counterparty[0])\n",
    "    \n",
    "    date_all_data.extend(data_counterparty_1)\n",
    "    print(num,end = ', ')"
   ]
  },
  {
   "cell_type": "code",
   "execution_count": 126,
   "id": "eaf6991d",
   "metadata": {},
   "outputs": [],
   "source": [
    "df_counterparty = pd.DataFrame(date_all_data)"
   ]
  },
  {
   "cell_type": "code",
   "execution_count": 127,
   "id": "14e14c3a",
   "metadata": {},
   "outputs": [],
   "source": [
    "list_counterparty_unique = df_counterparty.href_counterparty.unique()"
   ]
  },
  {
   "cell_type": "code",
   "execution_count": 128,
   "id": "fcf949b3",
   "metadata": {},
   "outputs": [],
   "source": [
    "data_tags = []"
   ]
  },
  {
   "cell_type": "code",
   "execution_count": 129,
   "id": "f0f8bcc5",
   "metadata": {},
   "outputs": [],
   "source": [
    "for counterparty_href in list_counterparty_unique:\n",
    "    data_tags.append({\n",
    "        'href_counterparty':counterparty_href,\n",
    "        'tags':', '.join(get_tag_counterparty(counterparty_href))\n",
    "        \n",
    "    })"
   ]
  },
  {
   "cell_type": "code",
   "execution_count": 130,
   "id": "1a53dc38",
   "metadata": {},
   "outputs": [],
   "source": [
    "df_tags = pd.DataFrame(data_tags)"
   ]
  },
  {
   "cell_type": "code",
   "execution_count": 131,
   "id": "dc543212",
   "metadata": {},
   "outputs": [],
   "source": [
    "df_total = df_counterparty.merge(right = df_tags,how = 'left',on = 'href_counterparty')"
   ]
  },
  {
   "cell_type": "code",
   "execution_count": 132,
   "id": "a62793a1",
   "metadata": {},
   "outputs": [
    {
     "data": {
      "text/html": [
       "<div>\n",
       "<style scoped>\n",
       "    .dataframe tbody tr th:only-of-type {\n",
       "        vertical-align: middle;\n",
       "    }\n",
       "\n",
       "    .dataframe tbody tr th {\n",
       "        vertical-align: top;\n",
       "    }\n",
       "\n",
       "    .dataframe thead th {\n",
       "        text-align: right;\n",
       "    }\n",
       "</style>\n",
       "<table border=\"1\" class=\"dataframe\">\n",
       "  <thead>\n",
       "    <tr style=\"text-align: right;\">\n",
       "      <th></th>\n",
       "      <th>Name_counterparty</th>\n",
       "      <th>href_counterparty</th>\n",
       "      <th>Date</th>\n",
       "      <th>Name</th>\n",
       "      <th>Code</th>\n",
       "      <th>Article</th>\n",
       "      <th>SellQuantity</th>\n",
       "      <th>SellCostSum</th>\n",
       "      <th>SellSum</th>\n",
       "      <th>returnQuantity</th>\n",
       "      <th>returnPrice</th>\n",
       "      <th>returnCost</th>\n",
       "      <th>returnSum</th>\n",
       "      <th>tags</th>\n",
       "    </tr>\n",
       "  </thead>\n",
       "  <tbody>\n",
       "    <tr>\n",
       "      <th>0</th>\n",
       "      <td>Абдукаюмова Наргис Бахтиеровна (@detmir_tj)</td>\n",
       "      <td>https://online.moysklad.ru/api/remap/1.2/entit...</td>\n",
       "      <td>2021-12-01</td>\n",
       "      <td>Музыкальная игрушка Умный зайка alilo R1. Цвет...</td>\n",
       "      <td>6954644609072</td>\n",
       "      <td>60907</td>\n",
       "      <td>10.0</td>\n",
       "      <td>977709.0</td>\n",
       "      <td>1727307.0</td>\n",
       "      <td>0.0</td>\n",
       "      <td>0.0</td>\n",
       "      <td>0.0</td>\n",
       "      <td>0.0</td>\n",
       "      <td>04 интернет-магазин, 01 клиенты, душанбе, 02 т...</td>\n",
       "    </tr>\n",
       "    <tr>\n",
       "      <th>1</th>\n",
       "      <td>Абдукаюмова Наргис Бахтиеровна (@detmir_tj)</td>\n",
       "      <td>https://online.moysklad.ru/api/remap/1.2/entit...</td>\n",
       "      <td>2021-12-01</td>\n",
       "      <td>Музыкальная игрушка Умный зайка alilo R1. Цвет...</td>\n",
       "      <td>6954644609089</td>\n",
       "      <td>60908</td>\n",
       "      <td>5.0</td>\n",
       "      <td>488920.0</td>\n",
       "      <td>863653.5</td>\n",
       "      <td>0.0</td>\n",
       "      <td>0.0</td>\n",
       "      <td>0.0</td>\n",
       "      <td>0.0</td>\n",
       "      <td>04 интернет-магазин, 01 клиенты, душанбе, 02 т...</td>\n",
       "    </tr>\n",
       "  </tbody>\n",
       "</table>\n",
       "</div>"
      ],
      "text/plain": [
       "                             Name_counterparty  \\\n",
       "0  Абдукаюмова Наргис Бахтиеровна (@detmir_tj)   \n",
       "1  Абдукаюмова Наргис Бахтиеровна (@detmir_tj)   \n",
       "\n",
       "                                   href_counterparty        Date  \\\n",
       "0  https://online.moysklad.ru/api/remap/1.2/entit...  2021-12-01   \n",
       "1  https://online.moysklad.ru/api/remap/1.2/entit...  2021-12-01   \n",
       "\n",
       "                                                Name           Code Article  \\\n",
       "0  Музыкальная игрушка Умный зайка alilo R1. Цвет...  6954644609072   60907   \n",
       "1  Музыкальная игрушка Умный зайка alilo R1. Цвет...  6954644609089   60908   \n",
       "\n",
       "   SellQuantity  SellCostSum    SellSum  returnQuantity  returnPrice  \\\n",
       "0          10.0     977709.0  1727307.0             0.0          0.0   \n",
       "1           5.0     488920.0   863653.5             0.0          0.0   \n",
       "\n",
       "   returnCost  returnSum                                               tags  \n",
       "0         0.0        0.0  04 интернет-магазин, 01 клиенты, душанбе, 02 т...  \n",
       "1         0.0        0.0  04 интернет-магазин, 01 клиенты, душанбе, 02 т...  "
      ]
     },
     "execution_count": 132,
     "metadata": {},
     "output_type": "execute_result"
    }
   ],
   "source": [
    "df_total.head(2)"
   ]
  },
  {
   "cell_type": "code",
   "execution_count": 133,
   "id": "0a29c2b9",
   "metadata": {},
   "outputs": [],
   "source": [
    "df_total['status_counterpatry'] = df_total['tags'].apply(lambda x: 'Клиент' if '01 клиенты' in x else 'Остальное')"
   ]
  },
  {
   "cell_type": "markdown",
   "id": "ad32ee76",
   "metadata": {},
   "source": [
    "#  Загрузка данных в MySQL"
   ]
  },
  {
   "cell_type": "code",
   "execution_count": 134,
   "id": "56eed79b",
   "metadata": {},
   "outputs": [],
   "source": [
    "list_values = ['SellCostSum','SellSum','returnPrice','returnCost','returnSum']\n",
    "\n",
    "for col in list_values:\n",
    "    df_total[col] = df_total[col]/100"
   ]
  },
  {
   "cell_type": "code",
   "execution_count": 135,
   "id": "f76f3c44",
   "metadata": {},
   "outputs": [
    {
     "data": {
      "text/html": [
       "<div>\n",
       "<style scoped>\n",
       "    .dataframe tbody tr th:only-of-type {\n",
       "        vertical-align: middle;\n",
       "    }\n",
       "\n",
       "    .dataframe tbody tr th {\n",
       "        vertical-align: top;\n",
       "    }\n",
       "\n",
       "    .dataframe thead th {\n",
       "        text-align: right;\n",
       "    }\n",
       "</style>\n",
       "<table border=\"1\" class=\"dataframe\">\n",
       "  <thead>\n",
       "    <tr style=\"text-align: right;\">\n",
       "      <th></th>\n",
       "      <th>Name_counterparty</th>\n",
       "      <th>href_counterparty</th>\n",
       "      <th>Date</th>\n",
       "      <th>Name</th>\n",
       "      <th>Code</th>\n",
       "      <th>Article</th>\n",
       "      <th>SellQuantity</th>\n",
       "      <th>SellCostSum</th>\n",
       "      <th>SellSum</th>\n",
       "      <th>returnQuantity</th>\n",
       "      <th>returnPrice</th>\n",
       "      <th>returnCost</th>\n",
       "      <th>returnSum</th>\n",
       "      <th>tags</th>\n",
       "      <th>status_counterpatry</th>\n",
       "    </tr>\n",
       "  </thead>\n",
       "  <tbody>\n",
       "    <tr>\n",
       "      <th>0</th>\n",
       "      <td>Абдукаюмова Наргис Бахтиеровна (@detmir_tj)</td>\n",
       "      <td>https://online.moysklad.ru/api/remap/1.2/entit...</td>\n",
       "      <td>2021-12-01</td>\n",
       "      <td>Музыкальная игрушка Умный зайка alilo R1. Цвет...</td>\n",
       "      <td>6954644609072</td>\n",
       "      <td>60907</td>\n",
       "      <td>10.0</td>\n",
       "      <td>9777.09</td>\n",
       "      <td>17273.070</td>\n",
       "      <td>0.0</td>\n",
       "      <td>0.0</td>\n",
       "      <td>0.0</td>\n",
       "      <td>0.0</td>\n",
       "      <td>04 интернет-магазин, 01 клиенты, душанбе, 02 т...</td>\n",
       "      <td>Клиент</td>\n",
       "    </tr>\n",
       "    <tr>\n",
       "      <th>1</th>\n",
       "      <td>Абдукаюмова Наргис Бахтиеровна (@detmir_tj)</td>\n",
       "      <td>https://online.moysklad.ru/api/remap/1.2/entit...</td>\n",
       "      <td>2021-12-01</td>\n",
       "      <td>Музыкальная игрушка Умный зайка alilo R1. Цвет...</td>\n",
       "      <td>6954644609089</td>\n",
       "      <td>60908</td>\n",
       "      <td>5.0</td>\n",
       "      <td>4889.20</td>\n",
       "      <td>8636.535</td>\n",
       "      <td>0.0</td>\n",
       "      <td>0.0</td>\n",
       "      <td>0.0</td>\n",
       "      <td>0.0</td>\n",
       "      <td>04 интернет-магазин, 01 клиенты, душанбе, 02 т...</td>\n",
       "      <td>Клиент</td>\n",
       "    </tr>\n",
       "  </tbody>\n",
       "</table>\n",
       "</div>"
      ],
      "text/plain": [
       "                             Name_counterparty  \\\n",
       "0  Абдукаюмова Наргис Бахтиеровна (@detmir_tj)   \n",
       "1  Абдукаюмова Наргис Бахтиеровна (@detmir_tj)   \n",
       "\n",
       "                                   href_counterparty        Date  \\\n",
       "0  https://online.moysklad.ru/api/remap/1.2/entit...  2021-12-01   \n",
       "1  https://online.moysklad.ru/api/remap/1.2/entit...  2021-12-01   \n",
       "\n",
       "                                                Name           Code Article  \\\n",
       "0  Музыкальная игрушка Умный зайка alilo R1. Цвет...  6954644609072   60907   \n",
       "1  Музыкальная игрушка Умный зайка alilo R1. Цвет...  6954644609089   60908   \n",
       "\n",
       "   SellQuantity  SellCostSum    SellSum  returnQuantity  returnPrice  \\\n",
       "0          10.0      9777.09  17273.070             0.0          0.0   \n",
       "1           5.0      4889.20   8636.535             0.0          0.0   \n",
       "\n",
       "   returnCost  returnSum                                               tags  \\\n",
       "0         0.0        0.0  04 интернет-магазин, 01 клиенты, душанбе, 02 т...   \n",
       "1         0.0        0.0  04 интернет-магазин, 01 клиенты, душанбе, 02 т...   \n",
       "\n",
       "  status_counterpatry  \n",
       "0              Клиент  \n",
       "1              Клиент  "
      ]
     },
     "execution_count": 135,
     "metadata": {},
     "output_type": "execute_result"
    }
   ],
   "source": [
    "df_total.head(2)"
   ]
  },
  {
   "cell_type": "code",
   "execution_count": 136,
   "id": "9bd0343e",
   "metadata": {},
   "outputs": [],
   "source": [
    "import sqlalchemy\n",
    "import pandas as pd\n",
    "\n",
    "database_username = ''\n",
    "database_password = ''\n",
    "database_ip       = ''\n",
    "database_name     = ''\n",
    "database_connection = sqlalchemy.create_engine('mysql+mysqlconnector://{0}:{1}@{2}/{3}'.\n",
    "                                               format(database_username, database_password, \n",
    "                                                      database_ip, database_name))"
   ]
  },
  {
   "cell_type": "code",
   "execution_count": 137,
   "id": "cd264c45",
   "metadata": {},
   "outputs": [],
   "source": [
    "name_table = 'MS_report_total'"
   ]
  },
  {
   "cell_type": "code",
   "execution_count": 138,
   "id": "24712501",
   "metadata": {},
   "outputs": [],
   "source": [
    "def join_table(name_table,data):\n",
    "    name_temp = name_table+'_temp'\n",
    "    for i in range(0,len(data),50):\n",
    "        with database_connection.begin() as connection:\n",
    "            data.iloc[i:i+50].to_sql(con=connection, name=name_temp, if_exists='append')\n",
    "            if i%1000==0:\n",
    "                print(i, end=', ')\n",
    "                \n",
    "    SQL_DROP = SQL_DROP = f\"\"\"DELETE FROM {name_table} \n",
    "    where (Date>=(SELECT MIN(Date) FROM {name_temp}) AND \n",
    "          Date<=(SELECT MAX(Date) FROM {name_temp}))\"\"\"\n",
    "    \n",
    "    result = database_connection.execute(SQL_DROP)\n",
    "    result = database_connection.execute(f\"INSERT INTO {name_table} SELECT * FROM {name_temp}\")\n",
    "    result = database_connection.execute(f\"DROP TABLE {name_temp}\")"
   ]
  },
  {
   "cell_type": "code",
   "execution_count": 139,
   "id": "108f0b5f",
   "metadata": {},
   "outputs": [
    {
     "name": "stdout",
     "output_type": "stream",
     "text": [
      "0, 1000, 2000, 3000, "
     ]
    }
   ],
   "source": [
    "join_table(name_table,df_total)"
   ]
  },
  {
   "cell_type": "code",
   "execution_count": 140,
   "id": "e5913c4b",
   "metadata": {},
   "outputs": [],
   "source": [
    "database_connection.dispose()"
   ]
  },
  {
   "cell_type": "code",
   "execution_count": 141,
   "id": "f4296402",
   "metadata": {},
   "outputs": [
    {
     "name": "stdout",
     "output_type": "stream",
     "text": [
      "OK 2021-12-01\n"
     ]
    }
   ],
   "source": [
    "print(\"OK\",date_start)"
   ]
  },
  {
   "cell_type": "markdown",
   "id": "8173cad3",
   "metadata": {},
   "source": [
    "Вариант когда нету таблицы"
   ]
  },
  {
   "cell_type": "code",
   "execution_count": 30,
   "id": "febd696b",
   "metadata": {},
   "outputs": [],
   "source": [
    "# def insert_table(name_table,data):\n",
    "#     for i in range(0,len(data),50):\n",
    "#         with database_connection.begin() as connection:\n",
    "#             data.iloc[i:i+50].to_sql(con=connection, name=name_table, if_exists='append')\n",
    "#             if i%1000==0:\n",
    "#                 print(i, end=', ')"
   ]
  },
  {
   "cell_type": "code",
   "execution_count": 331,
   "id": "794b7c2c",
   "metadata": {},
   "outputs": [],
   "source": [
    "# insert_table(name_table,df_total)"
   ]
  },
  {
   "cell_type": "code",
   "execution_count": 275,
   "id": "39a25996",
   "metadata": {},
   "outputs": [],
   "source": [
    "# database_connection.dispose()"
   ]
  },
  {
   "cell_type": "code",
   "execution_count": null,
   "id": "1a6ca6bb",
   "metadata": {},
   "outputs": [],
   "source": []
  }
 ],
 "metadata": {
  "kernelspec": {
   "display_name": "Python 3 (ipykernel)",
   "language": "python",
   "name": "python3"
  },
  "language_info": {
   "codemirror_mode": {
    "name": "ipython",
    "version": 3
   },
   "file_extension": ".py",
   "mimetype": "text/x-python",
   "name": "python",
   "nbconvert_exporter": "python",
   "pygments_lexer": "ipython3",
   "version": "3.8.8"
  }
 },
 "nbformat": 4,
 "nbformat_minor": 5
}
