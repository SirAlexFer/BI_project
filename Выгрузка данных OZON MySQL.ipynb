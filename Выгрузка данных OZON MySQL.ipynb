{
 "cells": [
  {
   "cell_type": "code",
   "execution_count": 237,
   "id": "de32a035",
   "metadata": {},
   "outputs": [],
   "source": [
    "class OZON_Meta:\n",
    "    \n",
    "    import requests\n",
    "    import json\n",
    "    import pandas as pd\n",
    "\n",
    "    def __init__(self,client_id,api_key):\n",
    "        self.client_id = client_id\n",
    "        self.api_key = api_key\n",
    "        self.headers = {\n",
    "            'Host': 'api-seller.ozon.ru',\n",
    "            'Client-Id': self.client_id,\n",
    "            'Api-Key': self.api_key,\n",
    "            'Content-Type': 'application/json',\n",
    "        }\n",
    "        \n",
    "        \n",
    "    def create_report_posting(self,date_start:str,date_finish:str)->str:\n",
    "        \"\"\"\n",
    "        date_start = \"2022-06-01\"\n",
    "        date_finish = \"2022-06-02\"\n",
    "        \"\"\"\n",
    "        url_postings = 'https://api-seller.ozon.ru/v1/report/postings/create'\n",
    "        \n",
    "        data = {\n",
    "            \"filter\": {\n",
    "            \"processed_at_from\": date_start+\"T00:00:00Z\",\n",
    "            \"processed_at_to\": date_finish+\"T23:59:59Z\",\n",
    "            \"delivery_schema\": [\n",
    "                \"fbs\",\n",
    "                \"fbo\",\n",
    "                \"crossborder\"],\n",
    "                }\n",
    "            }\n",
    "        \n",
    "        response = self.requests.post(url_postings,data=self.json.dumps(data), headers=self.headers)\n",
    "        print(response.text)\n",
    "        \n",
    "        return response.json()['result']['code']\n",
    "        \n",
    "    def get_json_report(self,UUID:str):\n",
    "        import time\n",
    "        \n",
    "        data = {\"code\": UUID}\n",
    "        url_report = 'https://api-seller.ozon.ru/v1/report/info'\n",
    "\n",
    "        \n",
    "        for i in range(0,30):\n",
    "            time.sleep(10)\n",
    "            print(i, end=', ')\n",
    "            response = self.requests.post(url_report,data=self.json.dumps(data), headers=self.headers)\n",
    "            response_data = response.json()\n",
    "            if response_data['result']['status'] == 'success':\n",
    "                break\n",
    "                \n",
    "        return response_data['result']['file']\n",
    "    \n",
    "    def parse_csv(self, csv_file:str):\n",
    "        \n",
    "        data_text = self.requests.get(csv_file, headers = self.headers)\n",
    "        text_csv = data_text.text\n",
    "        data_parse = [ elem.split(';') for elem in text_csv.split('\\n')]\n",
    "        \n",
    "        df = self.pd.DataFrame(data_parse)\n",
    "        df =df.rename(columns=df.iloc[0])\n",
    "        df = df.reindex(df.index.drop(0))\n",
    "        df.columns = df.columns.str.replace('\"','')\n",
    "        df = df.dropna(subset = ['Номер отправления'])\n",
    "        \n",
    "        return df\n",
    "    \n",
    "    "
   ]
  },
  {
   "cell_type": "markdown",
   "id": "8c5f8f3e-2399-4813-8558-7dcb3243b747",
   "metadata": {},
   "source": [
    "# Данные"
   ]
  },
  {
   "cell_type": "code",
   "execution_count": 238,
   "id": "61299c82-091b-4777-864d-b57440527842",
   "metadata": {},
   "outputs": [],
   "source": [
    "client_id_bot = ''\n",
    "api_key_bot = ''\n",
    "\n",
    "client_id_abumba = ''\n",
    "api_key_abumba = ''"
   ]
  },
  {
   "cell_type": "markdown",
   "id": "9e39e04d",
   "metadata": {},
   "source": [
    "# Отчет об отправлениях"
   ]
  },
  {
   "cell_type": "code",
   "execution_count": 336,
   "id": "717665d3",
   "metadata": {},
   "outputs": [],
   "source": [
    "start_date = \"2022-06-01\""
   ]
  },
  {
   "cell_type": "code",
   "execution_count": 337,
   "id": "6b58a1a2",
   "metadata": {},
   "outputs": [],
   "source": [
    "def finish_month(date:str):\n",
    "    \"\"\"формат 2021-01-01\"\"\"\n",
    "    from datetime import timedelta\n",
    "    import datetime\n",
    "    \n",
    "    dt = datetime.datetime.strptime(date, \"%Y-%m-%d\")\n",
    "    finish_date = datetime.date(dt.year,dt.month+1,1)-timedelta(days=1)\n",
    "    return finish_date.strftime(\"%Y-%m-%d\")"
   ]
  },
  {
   "cell_type": "code",
   "execution_count": 338,
   "id": "891637b0",
   "metadata": {},
   "outputs": [],
   "source": [
    "finish_date=finish_month(start_date)"
   ]
  },
  {
   "cell_type": "code",
   "execution_count": 339,
   "id": "5201ca2a",
   "metadata": {},
   "outputs": [
    {
     "data": {
      "text/plain": [
       "'2022-06-30'"
      ]
     },
     "execution_count": 339,
     "metadata": {},
     "output_type": "execute_result"
    }
   ],
   "source": [
    "finish_date"
   ]
  },
  {
   "cell_type": "code",
   "execution_count": 340,
   "id": "5c41e8c9",
   "metadata": {},
   "outputs": [],
   "source": [
    "def program(client_id,api_key,start_date,finish_date):\n",
    "    OZ_Meta_compamy = OZON_Meta(\n",
    "            client_id = client_id,\n",
    "            api_key = api_key)\n",
    "    \n",
    "    \n",
    "    from datetime import datetime,timedelta\n",
    "    import time\n",
    "    import pandas as pd\n",
    "\n",
    "    \n",
    "    code_report = OZ_Meta_compamy.create_report_posting(start_date,finish_date)\n",
    "    csv_file_path = OZ_Meta_compamy.get_json_report(code_report)\n",
    "    \n",
    "    df = OZ_Meta_compamy.parse_csv(csv_file_path)\n",
    "    for col in df.columns:\n",
    "        df[col] = df[col].str.replace('\"','')\n",
    "        \n",
    "    df['Дата и время заказа'] = pd.to_datetime(df['Дата и время заказа'])\n",
    "    df['Дата отгрузки'] = pd.to_datetime(df['Дата и время заказа'])\n",
    "    df['Стоимость'] = df['Стоимость'].astype(float)\n",
    "    df['Цена'] = df['Цена'].astype(float)\n",
    "    df['Количество'] = df['Количество'].astype(int)\n",
    "    \n",
    "    df_order_columns = ['﻿Номер заказа', 'Номер отправления', 'Дата и время заказа',\n",
    "       'Дата отгрузки', 'Статус', 'Стоимость', 'Наименование товара',\n",
    "       'Озон ID', 'Артикул', 'Цена', 'Количество']\n",
    "    df = df[df_order_columns]\n",
    "    \n",
    "    df = df.rename(columns = {\n",
    "        '﻿Номер заказа':'num_order',\n",
    "        'Номер отправления':'num_shipment',\n",
    "        'Дата и время заказа':'date_order',\n",
    "        'Дата отгрузки':'date_shipment',\n",
    "        'Статус':'status_order',\n",
    "        'Стоимость':'cost',\n",
    "        'Наименование товара':'name',\n",
    "        'Озон ID':'ozon_id',\n",
    "        'Артикул':'article',\n",
    "        'Цена':'price',\n",
    "        'Количество':'order_count',\n",
    "\n",
    "    })\n",
    "    \n",
    "    df['indexed_row'] = df['num_shipment']+\"_\"+df['ozon_id']\n",
    "    print('success')\n",
    "    return df"
   ]
  },
  {
   "cell_type": "code",
   "execution_count": 341,
   "id": "4655af7c",
   "metadata": {},
   "outputs": [
    {
     "name": "stdout",
     "output_type": "stream",
     "text": [
      "{\"result\":{\"code\":\"0a41d623-e98a-4502-89fa-472b7e8e4a51\"}}\n",
      "0, 1, success\n"
     ]
    }
   ],
   "source": [
    "df_BOT = program(\n",
    "    client_id = client_id_bot,\n",
    "    api_key = api_key_bot,\n",
    "    start_date=start_date,\n",
    "    finish_date=finish_date\n",
    ")"
   ]
  },
  {
   "cell_type": "code",
   "execution_count": 342,
   "id": "9fab4003",
   "metadata": {},
   "outputs": [
    {
     "name": "stdout",
     "output_type": "stream",
     "text": [
      "{\"result\":{\"code\":\"ef4e7f8d-903f-4f76-998b-82fe0d957570\"}}\n",
      "0, success\n"
     ]
    }
   ],
   "source": [
    "df_ABUMBA = program(\n",
    "    client_id = client_id_abumba,\n",
    "    api_key = api_key_abumba,\n",
    "    start_date=start_date,\n",
    "    finish_date=finish_date\n",
    ")"
   ]
  },
  {
   "cell_type": "code",
   "execution_count": 343,
   "id": "0bd92f57",
   "metadata": {},
   "outputs": [],
   "source": [
    "import pandas as pd\n",
    "df_all = pd.concat([df_BOT,df_ABUMBA])"
   ]
  },
  {
   "cell_type": "code",
   "execution_count": 344,
   "id": "9985a660",
   "metadata": {},
   "outputs": [
    {
     "data": {
      "text/html": [
       "<div>\n",
       "<style scoped>\n",
       "    .dataframe tbody tr th:only-of-type {\n",
       "        vertical-align: middle;\n",
       "    }\n",
       "\n",
       "    .dataframe tbody tr th {\n",
       "        vertical-align: top;\n",
       "    }\n",
       "\n",
       "    .dataframe thead th {\n",
       "        text-align: right;\n",
       "    }\n",
       "</style>\n",
       "<table border=\"1\" class=\"dataframe\">\n",
       "  <thead>\n",
       "    <tr style=\"text-align: right;\">\n",
       "      <th></th>\n",
       "      <th>num_order</th>\n",
       "      <th>num_shipment</th>\n",
       "      <th>date_order</th>\n",
       "      <th>date_shipment</th>\n",
       "      <th>status_order</th>\n",
       "      <th>cost</th>\n",
       "      <th>name</th>\n",
       "      <th>ozon_id</th>\n",
       "      <th>article</th>\n",
       "      <th>price</th>\n",
       "      <th>order_count</th>\n",
       "      <th>indexed_row</th>\n",
       "    </tr>\n",
       "  </thead>\n",
       "  <tbody>\n",
       "    <tr>\n",
       "      <th>1</th>\n",
       "      <td>05817831-0242</td>\n",
       "      <td>05817831-0242-8</td>\n",
       "      <td>2022-06-20 09:28:51</td>\n",
       "      <td>2022-06-20 09:28:51</td>\n",
       "      <td>cancelled</td>\n",
       "      <td>1745.0</td>\n",
       "      <td>Детские солнцезащитные очки Babiators Aviator ...</td>\n",
       "      <td>150264966</td>\n",
       "      <td>BAB-015</td>\n",
       "      <td>1745.0</td>\n",
       "      <td>1</td>\n",
       "      <td>05817831-0242-8_150264966</td>\n",
       "    </tr>\n",
       "    <tr>\n",
       "      <th>2</th>\n",
       "      <td>58221142-0039</td>\n",
       "      <td>58221142-0039-1</td>\n",
       "      <td>2022-06-01 02:03:33</td>\n",
       "      <td>2022-06-01 02:03:33</td>\n",
       "      <td>delivered</td>\n",
       "      <td>455.0</td>\n",
       "      <td>Соска антиколиковая Twistshake в наборе из 2 ш...</td>\n",
       "      <td>171609390</td>\n",
       "      <td>78021</td>\n",
       "      <td>455.0</td>\n",
       "      <td>1</td>\n",
       "      <td>58221142-0039-1_171609390</td>\n",
       "    </tr>\n",
       "  </tbody>\n",
       "</table>\n",
       "</div>"
      ],
      "text/plain": [
       "       num_order     num_shipment          date_order       date_shipment  \\\n",
       "1  05817831-0242  05817831-0242-8 2022-06-20 09:28:51 2022-06-20 09:28:51   \n",
       "2  58221142-0039  58221142-0039-1 2022-06-01 02:03:33 2022-06-01 02:03:33   \n",
       "\n",
       "  status_order    cost                                               name  \\\n",
       "1    cancelled  1745.0  Детские солнцезащитные очки Babiators Aviator ...   \n",
       "2    delivered   455.0  Соска антиколиковая Twistshake в наборе из 2 ш...   \n",
       "\n",
       "     ozon_id  article   price  order_count                indexed_row  \n",
       "1  150264966  BAB-015  1745.0            1  05817831-0242-8_150264966  \n",
       "2  171609390    78021   455.0            1  58221142-0039-1_171609390  "
      ]
     },
     "execution_count": 344,
     "metadata": {},
     "output_type": "execute_result"
    }
   ],
   "source": [
    "df_all.head(2)"
   ]
  },
  {
   "cell_type": "markdown",
   "id": "9eceaa3f-17ff-4f37-80f8-d70e8c459e74",
   "metadata": {},
   "source": [
    "# Обработка данных"
   ]
  },
  {
   "cell_type": "code",
   "execution_count": 345,
   "id": "a34e6dfa-92b9-42e0-ba7a-74c3503bf285",
   "metadata": {},
   "outputs": [],
   "source": [
    "class Product(OZON_Meta):\n",
    "    \n",
    "    def get_list_sku(self,last_id,status_archive):\n",
    "        url_get_sku = 'https://api-seller.ozon.ru/v2/product/list'\n",
    "        visibility = \"ALL\"\n",
    "        if status_archive == True:\n",
    "            visibility = \"ARCHIVED\"\n",
    "        data = {\n",
    "            \"filter\":{\n",
    "                \"visibility\": visibility,\n",
    "            },\n",
    "            \"limit\": \"1000\",\n",
    "            \"last_id\":last_id\n",
    "        }\n",
    "        \n",
    "        response = self.requests.post(url_get_sku,data=self.json.dumps(data), headers=self.headers)\n",
    "        return response.json()\n",
    "    \n",
    "    def get_list_circle(self,status_archive):\n",
    "        last_id = \"\"\n",
    "        data_json_product = []\n",
    "        for i in range(20):\n",
    "            data_ = self.get_list_sku(last_id,status_archive=False)\n",
    "            if data_['result']['last_id'] == '':\n",
    "                break\n",
    "\n",
    "            data_json_product.extend(data_['result']['items'])\n",
    "            last_id = data_['result']['last_id']\n",
    "            \n",
    "        return data_json_product\n",
    "    \n",
    "    def get_all_product(self):\n",
    "        data_ = []\n",
    "        \n",
    "        #data_.extend(self.get_list_circle(status_archive=True))\n",
    "        #архивные товара в API OZON не работают\n",
    "        data_.extend(self.get_list_circle(status_archive=False))\n",
    "        \n",
    "        return data_\n",
    "    \n",
    "    \n",
    "    def get_product_info(self,product_id):\n",
    "        data = {\n",
    "                \"product_id\": product_id,\n",
    "            }\n",
    "        \n",
    "        url_get_sku_info = 'https://api-seller.ozon.ru/v2/product/info'\n",
    "        \n",
    "        response = self.requests.post(url_get_sku_info,data=self.json.dumps(data), headers=self.headers)\n",
    "        \n",
    "        return response.json()\n",
    "    \n",
    "    def get_barcode(self,product_id):\n",
    "\n",
    "        try:\n",
    "            barcode = self.get_product_info(product_id)['result']['barcode']\n",
    "            \n",
    "        except:\n",
    "            barcode = \"---\"\n",
    "        \n",
    "        return barcode"
   ]
  },
  {
   "cell_type": "code",
   "execution_count": 346,
   "id": "e3428571-2908-448a-a779-30db65777534",
   "metadata": {},
   "outputs": [],
   "source": [
    "def get_all_product(client_id,api_key):\n",
    "    prod_obj = Product(client_id = client_id,\n",
    "            api_key = api_key)\n",
    "    \n",
    "    data_ = prod_obj.get_all_product()\n",
    "    df = pd.DataFrame(data_)\n",
    "    df['product_id'] = df['product_id'].astype(str)\n",
    "    df['barcode'] = df['product_id'].apply(prod_obj.get_barcode)\n",
    "    \n",
    "    return df"
   ]
  },
  {
   "cell_type": "code",
   "execution_count": 347,
   "id": "5252deb2-10ce-4da6-bbe3-554b3ae61be8",
   "metadata": {},
   "outputs": [],
   "source": [
    "df_product_BOT = get_all_product(client_id_bot,api_key_bot)\n",
    "df_product_abumba = get_all_product(client_id_abumba,api_key_abumba)"
   ]
  },
  {
   "cell_type": "code",
   "execution_count": 348,
   "id": "43fed6d8-a423-4bac-b8f4-6dc5b3a3f260",
   "metadata": {},
   "outputs": [],
   "source": [
    "df_all_product = pd.concat([df_product_BOT,df_product_abumba])"
   ]
  },
  {
   "cell_type": "code",
   "execution_count": 349,
   "id": "073f4e00-2cb1-4d21-afdf-b0708f04b708",
   "metadata": {},
   "outputs": [],
   "source": [
    "df_all_product = df_all_product[df_all_product['barcode']!='']"
   ]
  },
  {
   "cell_type": "code",
   "execution_count": 350,
   "id": "ec2d9f27-2014-4107-90a4-b1e00f946216",
   "metadata": {},
   "outputs": [],
   "source": [
    "del df_all_product['product_id']"
   ]
  },
  {
   "cell_type": "code",
   "execution_count": 351,
   "id": "8c39570f-be7b-4550-b0b3-6411ed07bb42",
   "metadata": {},
   "outputs": [],
   "source": [
    "df_all_product.drop_duplicates(ignore_index=True,inplace=True)"
   ]
  },
  {
   "cell_type": "markdown",
   "id": "5bb9b4d0-ca90-4246-8114-4195490c8f31",
   "metadata": {},
   "source": [
    "**Работа с пропусками**"
   ]
  },
  {
   "cell_type": "code",
   "execution_count": 321,
   "id": "f602f710-06b1-4125-bc3f-54ca1323ce14",
   "metadata": {},
   "outputs": [],
   "source": [
    "df_total = df_all.merge(right = df_all_product,how = 'left',left_on='article',right_on='offer_id')"
   ]
  },
  {
   "cell_type": "code",
   "execution_count": 322,
   "id": "2e979fc4-dbec-48a0-aaae-4ed4b68b741a",
   "metadata": {},
   "outputs": [],
   "source": [
    "path_oz_ms = '/Users/Aleksey/Documents/Файлы для БД/OZ_MS.xlsx'"
   ]
  },
  {
   "cell_type": "code",
   "execution_count": 323,
   "id": "d0ec3be7-7e4f-430c-94e1-627cfbb358e7",
   "metadata": {},
   "outputs": [],
   "source": [
    "df_ms_oz_code = pd.read_excel(path_oz_ms,dtype = {'ozon_id': 'str', \n",
    "     'offer_id': 'str',\n",
    "      'barcode_ms': 'str',                                           })"
   ]
  },
  {
   "cell_type": "code",
   "execution_count": 324,
   "id": "35c76e3d-5645-4ecf-b84b-7000a748db60",
   "metadata": {},
   "outputs": [],
   "source": [
    "df_ms_oz_code = df_ms_oz_code[['ozon_id','offer_id','barcode_ms']]"
   ]
  },
  {
   "cell_type": "code",
   "execution_count": 325,
   "id": "bcaffc00-2468-4139-944d-a1c3ee27611c",
   "metadata": {},
   "outputs": [],
   "source": [
    "df_total = df_total.merge(right = df_ms_oz_code,on = 'ozon_id',how = 'left',suffixes = ('_oz','_oz_2'))\n",
    "df_total.loc[df_total['barcode_ms'].isnull(),'barcode_ms'] = df_total.loc[df_total['barcode_ms'].isnull(),'barcode']\n",
    "df_total.loc[df_total['offer_id_oz_2'].isnull(),'offer_id_oz_2'] = df_total.loc[df_total['offer_id_oz_2'].isnull(),'offer_id_oz']"
   ]
  },
  {
   "cell_type": "code",
   "execution_count": 326,
   "id": "744aaaae-490f-4948-8091-2532ba0b83fc",
   "metadata": {},
   "outputs": [
    {
     "data": {
      "text/html": [
       "<div>\n",
       "<style scoped>\n",
       "    .dataframe tbody tr th:only-of-type {\n",
       "        vertical-align: middle;\n",
       "    }\n",
       "\n",
       "    .dataframe tbody tr th {\n",
       "        vertical-align: top;\n",
       "    }\n",
       "\n",
       "    .dataframe thead th {\n",
       "        text-align: right;\n",
       "    }\n",
       "</style>\n",
       "<table border=\"1\" class=\"dataframe\">\n",
       "  <thead>\n",
       "    <tr style=\"text-align: right;\">\n",
       "      <th></th>\n",
       "      <th>num_order</th>\n",
       "      <th>num_shipment</th>\n",
       "      <th>date_order</th>\n",
       "      <th>date_shipment</th>\n",
       "      <th>status_order</th>\n",
       "      <th>cost</th>\n",
       "      <th>name</th>\n",
       "      <th>ozon_id</th>\n",
       "      <th>article</th>\n",
       "      <th>price</th>\n",
       "      <th>order_count</th>\n",
       "      <th>indexed_row</th>\n",
       "      <th>offer_id_oz</th>\n",
       "      <th>barcode</th>\n",
       "      <th>offer_id_oz_2</th>\n",
       "      <th>barcode_ms</th>\n",
       "    </tr>\n",
       "  </thead>\n",
       "  <tbody>\n",
       "  </tbody>\n",
       "</table>\n",
       "</div>"
      ],
      "text/plain": [
       "Empty DataFrame\n",
       "Columns: [num_order, num_shipment, date_order, date_shipment, status_order, cost, name, ozon_id, article, price, order_count, indexed_row, offer_id_oz, barcode, offer_id_oz_2, barcode_ms]\n",
       "Index: []"
      ]
     },
     "execution_count": 326,
     "metadata": {},
     "output_type": "execute_result"
    }
   ],
   "source": [
    "df_total[df_total['barcode_ms']==\"\"]"
   ]
  },
  {
   "cell_type": "code",
   "execution_count": 327,
   "id": "dcddad17-17ea-49fd-8acc-9b4805c11307",
   "metadata": {},
   "outputs": [
    {
     "data": {
      "text/html": [
       "<div>\n",
       "<style scoped>\n",
       "    .dataframe tbody tr th:only-of-type {\n",
       "        vertical-align: middle;\n",
       "    }\n",
       "\n",
       "    .dataframe tbody tr th {\n",
       "        vertical-align: top;\n",
       "    }\n",
       "\n",
       "    .dataframe thead th {\n",
       "        text-align: right;\n",
       "    }\n",
       "</style>\n",
       "<table border=\"1\" class=\"dataframe\">\n",
       "  <thead>\n",
       "    <tr style=\"text-align: right;\">\n",
       "      <th></th>\n",
       "      <th>num_order</th>\n",
       "      <th>num_shipment</th>\n",
       "      <th>date_order</th>\n",
       "      <th>date_shipment</th>\n",
       "      <th>status_order</th>\n",
       "      <th>cost</th>\n",
       "      <th>name</th>\n",
       "      <th>ozon_id</th>\n",
       "      <th>article</th>\n",
       "      <th>price</th>\n",
       "      <th>order_count</th>\n",
       "      <th>indexed_row</th>\n",
       "      <th>offer_id_oz</th>\n",
       "      <th>barcode</th>\n",
       "      <th>offer_id_oz_2</th>\n",
       "      <th>barcode_ms</th>\n",
       "    </tr>\n",
       "  </thead>\n",
       "  <tbody>\n",
       "  </tbody>\n",
       "</table>\n",
       "</div>"
      ],
      "text/plain": [
       "Empty DataFrame\n",
       "Columns: [num_order, num_shipment, date_order, date_shipment, status_order, cost, name, ozon_id, article, price, order_count, indexed_row, offer_id_oz, barcode, offer_id_oz_2, barcode_ms]\n",
       "Index: []"
      ]
     },
     "execution_count": 327,
     "metadata": {},
     "output_type": "execute_result"
    }
   ],
   "source": [
    "df_total[df_total['barcode_ms']==\"---\"]"
   ]
  },
  {
   "cell_type": "code",
   "execution_count": 328,
   "id": "ef6afefd-2ecd-431f-aa4c-f11d8d0b381b",
   "metadata": {},
   "outputs": [
    {
     "data": {
      "text/html": [
       "<div>\n",
       "<style scoped>\n",
       "    .dataframe tbody tr th:only-of-type {\n",
       "        vertical-align: middle;\n",
       "    }\n",
       "\n",
       "    .dataframe tbody tr th {\n",
       "        vertical-align: top;\n",
       "    }\n",
       "\n",
       "    .dataframe thead th {\n",
       "        text-align: right;\n",
       "    }\n",
       "</style>\n",
       "<table border=\"1\" class=\"dataframe\">\n",
       "  <thead>\n",
       "    <tr style=\"text-align: right;\">\n",
       "      <th></th>\n",
       "      <th>ozon_id</th>\n",
       "      <th>article</th>\n",
       "      <th>num_shipment</th>\n",
       "    </tr>\n",
       "  </thead>\n",
       "  <tbody>\n",
       "  </tbody>\n",
       "</table>\n",
       "</div>"
      ],
      "text/plain": [
       "Empty DataFrame\n",
       "Columns: [ozon_id, article, num_shipment]\n",
       "Index: []"
      ]
     },
     "execution_count": 328,
     "metadata": {},
     "output_type": "execute_result"
    }
   ],
   "source": [
    "df_total[df_total['barcode_ms'].isna()][['ozon_id','article','num_shipment']].drop_duplicates()"
   ]
  },
  {
   "cell_type": "code",
   "execution_count": 329,
   "id": "def45038-9065-43f2-8a8f-08a658558244",
   "metadata": {},
   "outputs": [],
   "source": [
    "del df_total['barcode']\n",
    "del df_total['offer_id_oz']"
   ]
  },
  {
   "cell_type": "code",
   "execution_count": 330,
   "id": "7fd6b6ae-5580-42fa-9de4-8c9830f4cda7",
   "metadata": {},
   "outputs": [
    {
     "data": {
      "text/html": [
       "<div>\n",
       "<style scoped>\n",
       "    .dataframe tbody tr th:only-of-type {\n",
       "        vertical-align: middle;\n",
       "    }\n",
       "\n",
       "    .dataframe tbody tr th {\n",
       "        vertical-align: top;\n",
       "    }\n",
       "\n",
       "    .dataframe thead th {\n",
       "        text-align: right;\n",
       "    }\n",
       "</style>\n",
       "<table border=\"1\" class=\"dataframe\">\n",
       "  <thead>\n",
       "    <tr style=\"text-align: right;\">\n",
       "      <th></th>\n",
       "      <th>num_order</th>\n",
       "      <th>num_shipment</th>\n",
       "      <th>date_order</th>\n",
       "      <th>date_shipment</th>\n",
       "      <th>status_order</th>\n",
       "      <th>cost</th>\n",
       "      <th>name</th>\n",
       "      <th>ozon_id</th>\n",
       "      <th>article</th>\n",
       "      <th>price</th>\n",
       "      <th>order_count</th>\n",
       "      <th>indexed_row</th>\n",
       "      <th>offer_id_oz_2</th>\n",
       "      <th>barcode_ms</th>\n",
       "    </tr>\n",
       "  </thead>\n",
       "  <tbody>\n",
       "    <tr>\n",
       "      <th>0</th>\n",
       "      <td>23548512-0089</td>\n",
       "      <td>23548512-0089-3</td>\n",
       "      <td>2022-07-01 00:06:39</td>\n",
       "      <td>2022-07-01 00:06:39</td>\n",
       "      <td>delivered</td>\n",
       "      <td>685.0</td>\n",
       "      <td>Антиколиковая бутылочка Twistshake для кормлен...</td>\n",
       "      <td>149359464</td>\n",
       "      <td>78255</td>\n",
       "      <td>685.0</td>\n",
       "      <td>1</td>\n",
       "      <td>23548512-0089-3_149359464</td>\n",
       "      <td>78255</td>\n",
       "      <td>7350083122551</td>\n",
       "    </tr>\n",
       "    <tr>\n",
       "      <th>1</th>\n",
       "      <td>44813635-0062</td>\n",
       "      <td>44813635-0062-15</td>\n",
       "      <td>2022-07-01 01:35:02</td>\n",
       "      <td>2022-07-01 01:35:02</td>\n",
       "      <td>delivered</td>\n",
       "      <td>650.0</td>\n",
       "      <td>Антиколиковая бутылочка Twistshake для кормлен...</td>\n",
       "      <td>149359459</td>\n",
       "      <td>78250</td>\n",
       "      <td>650.0</td>\n",
       "      <td>1</td>\n",
       "      <td>44813635-0062-15_149359459</td>\n",
       "      <td>78250</td>\n",
       "      <td>7350083122506</td>\n",
       "    </tr>\n",
       "  </tbody>\n",
       "</table>\n",
       "</div>"
      ],
      "text/plain": [
       "       num_order      num_shipment          date_order       date_shipment  \\\n",
       "0  23548512-0089   23548512-0089-3 2022-07-01 00:06:39 2022-07-01 00:06:39   \n",
       "1  44813635-0062  44813635-0062-15 2022-07-01 01:35:02 2022-07-01 01:35:02   \n",
       "\n",
       "  status_order   cost                                               name  \\\n",
       "0    delivered  685.0  Антиколиковая бутылочка Twistshake для кормлен...   \n",
       "1    delivered  650.0  Антиколиковая бутылочка Twistshake для кормлен...   \n",
       "\n",
       "     ozon_id article  price  order_count                 indexed_row  \\\n",
       "0  149359464   78255  685.0            1   23548512-0089-3_149359464   \n",
       "1  149359459   78250  650.0            1  44813635-0062-15_149359459   \n",
       "\n",
       "  offer_id_oz_2     barcode_ms  \n",
       "0         78255  7350083122551  \n",
       "1         78250  7350083122506  "
      ]
     },
     "execution_count": 330,
     "metadata": {},
     "output_type": "execute_result"
    }
   ],
   "source": [
    "df_total.head(2)"
   ]
  },
  {
   "cell_type": "markdown",
   "id": "e1fa11b7",
   "metadata": {},
   "source": [
    "# Выгрузка отчета в MySQL "
   ]
  },
  {
   "cell_type": "code",
   "execution_count": 331,
   "id": "4edbf041",
   "metadata": {
    "tags": []
   },
   "outputs": [],
   "source": [
    "import sqlalchemy\n",
    "import pandas as pd\n",
    "\n",
    "database_username = ''\n",
    "database_password = ''\n",
    "database_ip       = ''\n",
    "database_name     = ''\n",
    "database_connection = sqlalchemy.create_engine('mysql+mysqlconnector://{0}:{1}@{2}/{3}'.\n",
    "                                               format(database_username, database_password, \n",
    "                                                      database_ip, database_name))"
   ]
  },
  {
   "cell_type": "code",
   "execution_count": 332,
   "id": "99131b3a",
   "metadata": {},
   "outputs": [],
   "source": [
    "name_main_table_sale = 'ozon_order_1'"
   ]
  },
  {
   "cell_type": "code",
   "execution_count": 333,
   "id": "8654b631",
   "metadata": {
    "tags": []
   },
   "outputs": [],
   "source": [
    "def join_table(name_table,data):\n",
    "    name_temp = name_table+'_temp'\n",
    "    for i in range(0,len(data),50):\n",
    "        with database_connection.begin() as connection:\n",
    "            data.iloc[i:i+50].to_sql(con=connection, name=name_temp, if_exists='append')\n",
    "            if i%1000==0:\n",
    "                print(i, end=', ')\n",
    "                \n",
    "    SQL_DROP = f\"\"\"DELETE FROM {name_table} \n",
    "    where {name_table}.indexed_row in (select indexed_row from {name_temp})\"\"\"\n",
    "    \n",
    "    result = database_connection.execute(SQL_DROP)\n",
    "    result = database_connection.execute(f\"INSERT INTO {name_table} SELECT * FROM {name_temp}\")\n",
    "    result = database_connection.execute(f\"DROP TABLE {name_temp}\")"
   ]
  },
  {
   "cell_type": "code",
   "execution_count": 334,
   "id": "6deddacf",
   "metadata": {},
   "outputs": [
    {
     "name": "stdout",
     "output_type": "stream",
     "text": [
      "0, 1000, 2000, 3000, 4000, 5000, 6000, 7000, 8000, 9000, 10000, 11000, "
     ]
    }
   ],
   "source": [
    "join_table(name_main_table_sale,df_total)"
   ]
  },
  {
   "cell_type": "code",
   "execution_count": 335,
   "id": "caa3eddf",
   "metadata": {},
   "outputs": [],
   "source": [
    "database_connection.dispose()"
   ]
  },
  {
   "cell_type": "markdown",
   "id": "7d6b66a7",
   "metadata": {},
   "source": [
    "Вариант когда нету таблицы (для тестов)"
   ]
  },
  {
   "cell_type": "code",
   "execution_count": 183,
   "id": "52af57db",
   "metadata": {},
   "outputs": [],
   "source": [
    "# def insert_table(name_table,data):\n",
    "#     for i in range(0,len(data),50):\n",
    "#         with database_connection.begin() as connection:\n",
    "#             data.iloc[i:i+50].to_sql(con=connection, name=name_table, if_exists='append')\n",
    "#             if i%1000==0:\n",
    "#                 print(i, end=', ')"
   ]
  },
  {
   "cell_type": "code",
   "execution_count": 184,
   "id": "e95324a1",
   "metadata": {},
   "outputs": [
    {
     "name": "stdout",
     "output_type": "stream",
     "text": [
      "0, 1000, 2000, "
     ]
    }
   ],
   "source": [
    "# insert_table(name_main_table_sale,df_total)"
   ]
  },
  {
   "cell_type": "code",
   "execution_count": 185,
   "id": "80a3911d",
   "metadata": {},
   "outputs": [],
   "source": [
    "# database_connection.dispose()"
   ]
  },
  {
   "cell_type": "code",
   "execution_count": null,
   "id": "4d72a5ac",
   "metadata": {},
   "outputs": [],
   "source": []
  }
 ],
 "metadata": {
  "kernelspec": {
   "display_name": "Python 3 (ipykernel)",
   "language": "python",
   "name": "python3"
  },
  "language_info": {
   "codemirror_mode": {
    "name": "ipython",
    "version": 3
   },
   "file_extension": ".py",
   "mimetype": "text/x-python",
   "name": "python",
   "nbconvert_exporter": "python",
   "pygments_lexer": "ipython3",
   "version": "3.8.8"
  }
 },
 "nbformat": 4,
 "nbformat_minor": 5
}
